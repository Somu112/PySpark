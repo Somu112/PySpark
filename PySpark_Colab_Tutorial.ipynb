{
 "cells": [
  {
   "cell_type": "markdown",
   "metadata": {
    "id": "Kt0v7GH0oylH"
   },
   "source": [
    "RDD"
   ]
  },
  {
   "cell_type": "code",
   "execution_count": 1,
   "metadata": {
    "id": "kz5w5uTsrXzD"
   },
   "outputs": [],
   "source": [
    "!apt-get install openjdk-8-jdk-headless -qq > /dev/null\n",
    "!wget -q http://archive.apache.org/dist/spark/spark-3.1.1/spark-3.1.1-bin-hadoop3.2.tgz\n",
    "!tar xf spark-3.1.1-bin-hadoop3.2.tgz\n",
    "!pip install -q findspark"
   ]
  },
  {
   "cell_type": "code",
   "execution_count": 1,
   "metadata": {
    "id": "2yr6e7_jrwdg"
   },
   "outputs": [],
   "source": []
  },
  {
   "cell_type": "code",
   "execution_count": 2,
   "metadata": {
    "id": "sdOOq4twHN1K"
   },
   "outputs": [],
   "source": [
    "import os\n",
    "os.environ[\"JAVA_HOME\"] = \"/usr/lib/jvm/java-8-openjdk-amd64\"\n",
    "os.environ[\"SPARK_HOME\"] = \"/content/spark-3.1.1-bin-hadoop3.2\""
   ]
  },
  {
   "cell_type": "code",
   "execution_count": 3,
   "metadata": {
    "colab": {
     "base_uri": "https://localhost:8080/"
    },
    "id": "I6BWP2MIsDU_",
    "outputId": "a68633ce-94bb-45aa-a010-d10eaf5bf913"
   },
   "outputs": [
    {
     "name": "stdout",
     "output_type": "stream",
     "text": [
      "\u001b[0m\u001b[01;34msample_data\u001b[0m/  \u001b[01;34mspark-3.1.1-bin-hadoop3.2\u001b[0m/  spark-3.1.1-bin-hadoop3.2.tgz\n"
     ]
    }
   ],
   "source": [
    "ls"
   ]
  },
  {
   "cell_type": "code",
   "execution_count": 4,
   "metadata": {
    "colab": {
     "base_uri": "https://localhost:8080/",
     "height": 219
    },
    "id": "CYML7WQjojLa",
    "outputId": "53c12f5c-819b-4156-c2a3-5ffc9ab2cec4"
   },
   "outputs": [
    {
     "data": {
      "text/html": [
       "\n",
       "            <div>\n",
       "                <p><b>SparkSession - in-memory</b></p>\n",
       "                \n",
       "        <div>\n",
       "            <p><b>SparkContext</b></p>\n",
       "\n",
       "            <p><a href=\"http://424612737e7a:4040\">Spark UI</a></p>\n",
       "\n",
       "            <dl>\n",
       "              <dt>Version</dt>\n",
       "                <dd><code>v3.1.1</code></dd>\n",
       "              <dt>Master</dt>\n",
       "                <dd><code>local[*]</code></dd>\n",
       "              <dt>AppName</dt>\n",
       "                <dd><code>pyspark-shell</code></dd>\n",
       "            </dl>\n",
       "        </div>\n",
       "        \n",
       "            </div>\n",
       "        "
      ],
      "text/plain": [
       "<pyspark.sql.session.SparkSession at 0x7a92f4b02ec0>"
      ]
     },
     "execution_count": 4,
     "metadata": {},
     "output_type": "execute_result"
    }
   ],
   "source": [
    "import findspark\n",
    "findspark.init()\n",
    "from pyspark.sql import SparkSession\n",
    "spark = SparkSession.builder.master(\"local[*]\").getOrCreate()\n",
    "spark.conf.set(\"spark.sql.repl.eagerEval.enabled\", True) # Property used to format output tables better\n",
    "spark"
   ]
  },
  {
   "cell_type": "code",
   "execution_count": 6,
   "metadata": {
    "colab": {
     "base_uri": "https://localhost:8080/"
    },
    "id": "cx4ggt5itfq5",
    "outputId": "444840b9-6cee-4ead-c4a7-cd16846108b0"
   },
   "outputs": [
    {
     "name": "stdout",
     "output_type": "stream",
     "text": [
      "--2023-12-10 09:55:15--  https://jacobceles.github.io/knowledge_repo/colab_and_pyspark/cars.csv\n",
      "Resolving jacobceles.github.io (jacobceles.github.io)... 185.199.108.153, 185.199.109.153, 185.199.110.153, ...\n",
      "Connecting to jacobceles.github.io (jacobceles.github.io)|185.199.108.153|:443... connected.\n",
      "HTTP request sent, awaiting response... 301 Moved Permanently\n",
      "Location: https://jacobcelestine.com/knowledge_repo/colab_and_pyspark/cars.csv [following]\n",
      "--2023-12-10 09:55:15--  https://jacobcelestine.com/knowledge_repo/colab_and_pyspark/cars.csv\n",
      "Resolving jacobcelestine.com (jacobcelestine.com)... 185.199.108.153, 185.199.109.153, 185.199.110.153, ...\n",
      "Connecting to jacobcelestine.com (jacobcelestine.com)|185.199.108.153|:443... connected.\n",
      "HTTP request sent, awaiting response... 200 OK\n",
      "Length: 22608 (22K) [text/csv]\n",
      "Saving to: ‘cars.csv’\n",
      "\n",
      "cars.csv            100%[===================>]  22.08K  --.-KB/s    in 0s      \n",
      "\n",
      "2023-12-10 09:55:16 (78.6 MB/s) - ‘cars.csv’ saved [22608/22608]\n",
      "\n"
     ]
    }
   ],
   "source": [
    "!wget https://jacobceles.github.io/knowledge_repo/colab_and_pyspark/cars.csv"
   ]
  },
  {
   "cell_type": "code",
   "execution_count": 7,
   "metadata": {
    "colab": {
     "base_uri": "https://localhost:8080/"
    },
    "id": "-OPmHBDkttai",
    "outputId": "95397af5-af75-4dae-a984-44ff70a37e73"
   },
   "outputs": [
    {
     "name": "stdout",
     "output_type": "stream",
     "text": [
      "cars.csv  sample_data  spark-3.1.1-bin-hadoop3.2  spark-3.1.1-bin-hadoop3.2.tgz\n"
     ]
    }
   ],
   "source": [
    "!ls"
   ]
  },
  {
   "cell_type": "code",
   "execution_count": 8,
   "metadata": {
    "colab": {
     "base_uri": "https://localhost:8080/"
    },
    "id": "sQF2O-l7txIR",
    "outputId": "0b68e5cd-a6b3-4705-e4d8-02ba9bef4d43"
   },
   "outputs": [
    {
     "name": "stdout",
     "output_type": "stream",
     "text": [
      "+--------------------+----+---------+------------+----------+------+------------+-----+------+\n",
      "|                 Car| MPG|Cylinders|Displacement|Horsepower|Weight|Acceleration|Model|Origin|\n",
      "+--------------------+----+---------+------------+----------+------+------------+-----+------+\n",
      "|Chevrolet Chevell...|18.0|        8|       307.0|     130.0| 3504.|        12.0|   70|    US|\n",
      "|   Buick Skylark 320|15.0|        8|       350.0|     165.0| 3693.|        11.5|   70|    US|\n",
      "|  Plymouth Satellite|18.0|        8|       318.0|     150.0| 3436.|        11.0|   70|    US|\n",
      "|       AMC Rebel SST|16.0|        8|       304.0|     150.0| 3433.|        12.0|   70|    US|\n",
      "|         Ford Torino|17.0|        8|       302.0|     140.0| 3449.|        10.5|   70|    US|\n",
      "+--------------------+----+---------+------------+----------+------+------------+-----+------+\n",
      "only showing top 5 rows\n",
      "\n"
     ]
    }
   ],
   "source": [
    "df = spark.read.csv('cars.csv', header=True, sep=\";\")\n",
    "df.show(5)"
   ]
  },
  {
   "cell_type": "code",
   "execution_count": 9,
   "metadata": {
    "colab": {
     "base_uri": "https://localhost:8080/"
    },
    "id": "WRqJJpcXuFHZ",
    "outputId": "b56bfc3c-263a-4602-9fcf-506ede29af58"
   },
   "outputs": [
    {
     "name": "stdout",
     "output_type": "stream",
     "text": [
      "+-------------------------+----+---------+------------+----------+------+------------+-----+------+\n",
      "|Car                      |MPG |Cylinders|Displacement|Horsepower|Weight|Acceleration|Model|Origin|\n",
      "+-------------------------+----+---------+------------+----------+------+------------+-----+------+\n",
      "|Chevrolet Chevelle Malibu|18.0|8        |307.0       |130.0     |3504. |12.0        |70   |US    |\n",
      "|Buick Skylark 320        |15.0|8        |350.0       |165.0     |3693. |11.5        |70   |US    |\n",
      "|Plymouth Satellite       |18.0|8        |318.0       |150.0     |3436. |11.0        |70   |US    |\n",
      "|AMC Rebel SST            |16.0|8        |304.0       |150.0     |3433. |12.0        |70   |US    |\n",
      "|Ford Torino              |17.0|8        |302.0       |140.0     |3449. |10.5        |70   |US    |\n",
      "+-------------------------+----+---------+------------+----------+------+------------+-----+------+\n",
      "only showing top 5 rows\n",
      "\n"
     ]
    }
   ],
   "source": [
    "df.show(5, truncate=False)"
   ]
  },
  {
   "cell_type": "code",
   "execution_count": 10,
   "metadata": {
    "colab": {
     "base_uri": "https://localhost:8080/",
     "height": 156
    },
    "id": "ObvkyZB3uVFS",
    "outputId": "1875074f-207e-49a5-9814-7c6acc354ba7"
   },
   "outputs": [
    {
     "data": {
      "text/html": [
       "<table border='1'>\n",
       "<tr><th>Car</th><th>MPG</th><th>Cylinders</th><th>Displacement</th><th>Horsepower</th><th>Weight</th><th>Acceleration</th><th>Model</th><th>Origin</th></tr>\n",
       "<tr><td>Chevrolet Chevell...</td><td>18.0</td><td>8</td><td>307.0</td><td>130.0</td><td>3504.</td><td>12.0</td><td>70</td><td>US</td></tr>\n",
       "<tr><td>Buick Skylark 320</td><td>15.0</td><td>8</td><td>350.0</td><td>165.0</td><td>3693.</td><td>11.5</td><td>70</td><td>US</td></tr>\n",
       "<tr><td>Plymouth Satellite</td><td>18.0</td><td>8</td><td>318.0</td><td>150.0</td><td>3436.</td><td>11.0</td><td>70</td><td>US</td></tr>\n",
       "<tr><td>AMC Rebel SST</td><td>16.0</td><td>8</td><td>304.0</td><td>150.0</td><td>3433.</td><td>12.0</td><td>70</td><td>US</td></tr>\n",
       "<tr><td>Ford Torino</td><td>17.0</td><td>8</td><td>302.0</td><td>140.0</td><td>3449.</td><td>10.5</td><td>70</td><td>US</td></tr>\n",
       "</table>\n"
      ],
      "text/plain": [
       "+--------------------+----+---------+------------+----------+------+------------+-----+------+\n",
       "|                 Car| MPG|Cylinders|Displacement|Horsepower|Weight|Acceleration|Model|Origin|\n",
       "+--------------------+----+---------+------------+----------+------+------------+-----+------+\n",
       "|Chevrolet Chevell...|18.0|        8|       307.0|     130.0| 3504.|        12.0|   70|    US|\n",
       "|   Buick Skylark 320|15.0|        8|       350.0|     165.0| 3693.|        11.5|   70|    US|\n",
       "|  Plymouth Satellite|18.0|        8|       318.0|     150.0| 3436.|        11.0|   70|    US|\n",
       "|       AMC Rebel SST|16.0|        8|       304.0|     150.0| 3433.|        12.0|   70|    US|\n",
       "|         Ford Torino|17.0|        8|       302.0|     140.0| 3449.|        10.5|   70|    US|\n",
       "+--------------------+----+---------+------------+----------+------+------------+-----+------+"
      ]
     },
     "execution_count": 10,
     "metadata": {},
     "output_type": "execute_result"
    }
   ],
   "source": [
    "df.limit(5)"
   ]
  },
  {
   "cell_type": "code",
   "execution_count": 11,
   "metadata": {
    "colab": {
     "base_uri": "https://localhost:8080/"
    },
    "id": "soA5VzOPvC0d",
    "outputId": "667be767-523b-4b82-cca9-d34858b64549"
   },
   "outputs": [
    {
     "data": {
      "text/plain": [
       "['Car',\n",
       " 'MPG',\n",
       " 'Cylinders',\n",
       " 'Displacement',\n",
       " 'Horsepower',\n",
       " 'Weight',\n",
       " 'Acceleration',\n",
       " 'Model',\n",
       " 'Origin']"
      ]
     },
     "execution_count": 11,
     "metadata": {},
     "output_type": "execute_result"
    }
   ],
   "source": [
    "df.columns"
   ]
  },
  {
   "cell_type": "code",
   "execution_count": 12,
   "metadata": {
    "colab": {
     "base_uri": "https://localhost:8080/"
    },
    "id": "hBeolHyhvIJj",
    "outputId": "43cb77c7-7536-47e7-b2f6-ba0c8fb1d757"
   },
   "outputs": [
    {
     "data": {
      "text/plain": [
       "[('Car', 'string'),\n",
       " ('MPG', 'string'),\n",
       " ('Cylinders', 'string'),\n",
       " ('Displacement', 'string'),\n",
       " ('Horsepower', 'string'),\n",
       " ('Weight', 'string'),\n",
       " ('Acceleration', 'string'),\n",
       " ('Model', 'string'),\n",
       " ('Origin', 'string')]"
      ]
     },
     "execution_count": 12,
     "metadata": {},
     "output_type": "execute_result"
    }
   ],
   "source": [
    "df.dtypes"
   ]
  },
  {
   "cell_type": "code",
   "execution_count": 13,
   "metadata": {
    "colab": {
     "base_uri": "https://localhost:8080/"
    },
    "id": "4oHFISpzvK_U",
    "outputId": "64304b93-dc38-40ca-b54c-682d90418256"
   },
   "outputs": [
    {
     "name": "stdout",
     "output_type": "stream",
     "text": [
      "root\n",
      " |-- Car: string (nullable = true)\n",
      " |-- MPG: string (nullable = true)\n",
      " |-- Cylinders: string (nullable = true)\n",
      " |-- Displacement: string (nullable = true)\n",
      " |-- Horsepower: string (nullable = true)\n",
      " |-- Weight: string (nullable = true)\n",
      " |-- Acceleration: string (nullable = true)\n",
      " |-- Model: string (nullable = true)\n",
      " |-- Origin: string (nullable = true)\n",
      "\n"
     ]
    }
   ],
   "source": [
    "df.printSchema()"
   ]
  },
  {
   "cell_type": "code",
   "execution_count": 14,
   "metadata": {
    "colab": {
     "base_uri": "https://localhost:8080/"
    },
    "id": "oRdAfGtJvPfC",
    "outputId": "fd28c7ab-49cc-4fce-a940-a3a5d646d846"
   },
   "outputs": [
    {
     "name": "stdout",
     "output_type": "stream",
     "text": [
      "root\n",
      " |-- Car: string (nullable = true)\n",
      " |-- MPG: double (nullable = true)\n",
      " |-- Cylinders: integer (nullable = true)\n",
      " |-- Displacement: double (nullable = true)\n",
      " |-- Horsepower: double (nullable = true)\n",
      " |-- Weight: decimal(4,0) (nullable = true)\n",
      " |-- Acceleration: double (nullable = true)\n",
      " |-- Model: integer (nullable = true)\n",
      " |-- Origin: string (nullable = true)\n",
      "\n"
     ]
    }
   ],
   "source": [
    "df = spark.read.csv('cars.csv', header=True, sep=\";\", inferSchema=True)\n",
    "df.printSchema()"
   ]
  },
  {
   "cell_type": "code",
   "execution_count": 15,
   "metadata": {
    "colab": {
     "base_uri": "https://localhost:8080/"
    },
    "id": "kZATr7lTvk_s",
    "outputId": "1ba3fb6d-5fb8-4577-f27c-d43df7a38fad"
   },
   "outputs": [
    {
     "data": {
      "text/plain": [
       "['Car',\n",
       " 'MPG',\n",
       " 'Cylinders',\n",
       " 'Displacement',\n",
       " 'Horsepower',\n",
       " 'Weight',\n",
       " 'Acceleration',\n",
       " 'Model',\n",
       " 'Origin']"
      ]
     },
     "execution_count": 15,
     "metadata": {},
     "output_type": "execute_result"
    }
   ],
   "source": [
    "from pyspark.sql.types import *\n",
    "df.columns"
   ]
  },
  {
   "cell_type": "code",
   "execution_count": 16,
   "metadata": {
    "id": "hTKFu-BRv22Q"
   },
   "outputs": [],
   "source": [
    "# Creating a list of the schema in the format column_name, data_type\n",
    "labels = [\n",
    "     ('Car',StringType()),\n",
    "     ('MPG',DoubleType()),\n",
    "     ('Cylinders',IntegerType()),\n",
    "     ('Displacement',DoubleType()),\n",
    "     ('Horsepower',DoubleType()),\n",
    "     ('Weight',DoubleType()),\n",
    "     ('Acceleration',DoubleType()),\n",
    "     ('Model',IntegerType()),\n",
    "     ('Origin',StringType())\n",
    "]"
   ]
  },
  {
   "cell_type": "code",
   "execution_count": 17,
   "metadata": {
    "colab": {
     "base_uri": "https://localhost:8080/"
    },
    "id": "dAdiixzrwWqk",
    "outputId": "d74a9c45-7d9c-41d9-e24d-b9b7aa1fc277"
   },
   "outputs": [
    {
     "data": {
      "text/plain": [
       "StructType(List(StructField(Car,StringType,true),StructField(MPG,DoubleType,true),StructField(Cylinders,IntegerType,true),StructField(Displacement,DoubleType,true),StructField(Horsepower,DoubleType,true),StructField(Weight,DoubleType,true),StructField(Acceleration,DoubleType,true),StructField(Model,IntegerType,true),StructField(Origin,StringType,true)))"
      ]
     },
     "execution_count": 17,
     "metadata": {},
     "output_type": "execute_result"
    }
   ],
   "source": [
    "schema = StructType([StructField (x[0], x[1], True) for x in labels])\n",
    "schema"
   ]
  },
  {
   "cell_type": "code",
   "execution_count": 18,
   "metadata": {
    "colab": {
     "base_uri": "https://localhost:8080/"
    },
    "id": "1oGcWsw7w2Lf",
    "outputId": "162b9b51-f9f5-42da-ea9e-b425e555d8df"
   },
   "outputs": [
    {
     "name": "stdout",
     "output_type": "stream",
     "text": [
      "root\n",
      " |-- Car: string (nullable = true)\n",
      " |-- MPG: double (nullable = true)\n",
      " |-- Cylinders: integer (nullable = true)\n",
      " |-- Displacement: double (nullable = true)\n",
      " |-- Horsepower: double (nullable = true)\n",
      " |-- Weight: double (nullable = true)\n",
      " |-- Acceleration: double (nullable = true)\n",
      " |-- Model: integer (nullable = true)\n",
      " |-- Origin: string (nullable = true)\n",
      "\n"
     ]
    }
   ],
   "source": [
    "df = spark.read.csv('cars.csv', header=True, sep=\";\", schema=schema)\n",
    "df.printSchema()"
   ]
  },
  {
   "cell_type": "code",
   "execution_count": 19,
   "metadata": {
    "colab": {
     "base_uri": "https://localhost:8080/"
    },
    "id": "eI8aPrmWxQEZ",
    "outputId": "5b70e820-cae6-42b0-82e7-0a1bdaff4e77"
   },
   "outputs": [
    {
     "name": "stdout",
     "output_type": "stream",
     "text": [
      "+--------------------------------+----+---------+------------+----------+------+------------+-----+------+\n",
      "|Car                             |MPG |Cylinders|Displacement|Horsepower|Weight|Acceleration|Model|Origin|\n",
      "+--------------------------------+----+---------+------------+----------+------+------------+-----+------+\n",
      "|Chevrolet Chevelle Malibu       |18.0|8        |307.0       |130.0     |3504.0|12.0        |70   |US    |\n",
      "|Buick Skylark 320               |15.0|8        |350.0       |165.0     |3693.0|11.5        |70   |US    |\n",
      "|Plymouth Satellite              |18.0|8        |318.0       |150.0     |3436.0|11.0        |70   |US    |\n",
      "|AMC Rebel SST                   |16.0|8        |304.0       |150.0     |3433.0|12.0        |70   |US    |\n",
      "|Ford Torino                     |17.0|8        |302.0       |140.0     |3449.0|10.5        |70   |US    |\n",
      "|Ford Galaxie 500                |15.0|8        |429.0       |198.0     |4341.0|10.0        |70   |US    |\n",
      "|Chevrolet Impala                |14.0|8        |454.0       |220.0     |4354.0|9.0         |70   |US    |\n",
      "|Plymouth Fury iii               |14.0|8        |440.0       |215.0     |4312.0|8.5         |70   |US    |\n",
      "|Pontiac Catalina                |14.0|8        |455.0       |225.0     |4425.0|10.0        |70   |US    |\n",
      "|AMC Ambassador DPL              |15.0|8        |390.0       |190.0     |3850.0|8.5         |70   |US    |\n",
      "|Citroen DS-21 Pallas            |0.0 |4        |133.0       |115.0     |3090.0|17.5        |70   |Europe|\n",
      "|Chevrolet Chevelle Concours (sw)|0.0 |8        |350.0       |165.0     |4142.0|11.5        |70   |US    |\n",
      "|Ford Torino (sw)                |0.0 |8        |351.0       |153.0     |4034.0|11.0        |70   |US    |\n",
      "|Plymouth Satellite (sw)         |0.0 |8        |383.0       |175.0     |4166.0|10.5        |70   |US    |\n",
      "|AMC Rebel SST (sw)              |0.0 |8        |360.0       |175.0     |3850.0|11.0        |70   |US    |\n",
      "|Dodge Challenger SE             |15.0|8        |383.0       |170.0     |3563.0|10.0        |70   |US    |\n",
      "|Plymouth 'Cuda 340              |14.0|8        |340.0       |160.0     |3609.0|8.0         |70   |US    |\n",
      "|Ford Mustang Boss 302           |0.0 |8        |302.0       |140.0     |3353.0|8.0         |70   |US    |\n",
      "|Chevrolet Monte Carlo           |15.0|8        |400.0       |150.0     |3761.0|9.5         |70   |US    |\n",
      "|Buick Estate Wagon (sw)         |14.0|8        |455.0       |225.0     |3086.0|10.0        |70   |US    |\n",
      "+--------------------------------+----+---------+------------+----------+------+------------+-----+------+\n",
      "only showing top 20 rows\n",
      "\n"
     ]
    }
   ],
   "source": [
    "df.show(truncate=False)"
   ]
  },
  {
   "cell_type": "code",
   "execution_count": 20,
   "metadata": {
    "colab": {
     "base_uri": "https://localhost:8080/"
    },
    "id": "9H9cCOdRxXas",
    "outputId": "c0f423e8-e750-4361-9abd-b409f9c60a37"
   },
   "outputs": [
    {
     "name": "stdout",
     "output_type": "stream",
     "text": [
      "Column<'Car'>\n",
      "********************\n",
      "+--------------------------------+\n",
      "|Car                             |\n",
      "+--------------------------------+\n",
      "|Chevrolet Chevelle Malibu       |\n",
      "|Buick Skylark 320               |\n",
      "|Plymouth Satellite              |\n",
      "|AMC Rebel SST                   |\n",
      "|Ford Torino                     |\n",
      "|Ford Galaxie 500                |\n",
      "|Chevrolet Impala                |\n",
      "|Plymouth Fury iii               |\n",
      "|Pontiac Catalina                |\n",
      "|AMC Ambassador DPL              |\n",
      "|Citroen DS-21 Pallas            |\n",
      "|Chevrolet Chevelle Concours (sw)|\n",
      "|Ford Torino (sw)                |\n",
      "|Plymouth Satellite (sw)         |\n",
      "|AMC Rebel SST (sw)              |\n",
      "|Dodge Challenger SE             |\n",
      "|Plymouth 'Cuda 340              |\n",
      "|Ford Mustang Boss 302           |\n",
      "|Chevrolet Monte Carlo           |\n",
      "|Buick Estate Wagon (sw)         |\n",
      "+--------------------------------+\n",
      "only showing top 20 rows\n",
      "\n"
     ]
    }
   ],
   "source": [
    "print(df.Car)\n",
    "print(\"*\"*20)\n",
    "df.select(df.Car).show(truncate=False)"
   ]
  },
  {
   "cell_type": "code",
   "execution_count": 21,
   "metadata": {
    "colab": {
     "base_uri": "https://localhost:8080/"
    },
    "id": "2c2QqUPfyWsq",
    "outputId": "4f231b43-47ac-426b-aceb-9ec194f08221"
   },
   "outputs": [
    {
     "name": "stdout",
     "output_type": "stream",
     "text": [
      "Column<'car'>\n",
      "********************\n",
      "+--------------------------------+\n",
      "|car                             |\n",
      "+--------------------------------+\n",
      "|Chevrolet Chevelle Malibu       |\n",
      "|Buick Skylark 320               |\n",
      "|Plymouth Satellite              |\n",
      "|AMC Rebel SST                   |\n",
      "|Ford Torino                     |\n",
      "|Ford Galaxie 500                |\n",
      "|Chevrolet Impala                |\n",
      "|Plymouth Fury iii               |\n",
      "|Pontiac Catalina                |\n",
      "|AMC Ambassador DPL              |\n",
      "|Citroen DS-21 Pallas            |\n",
      "|Chevrolet Chevelle Concours (sw)|\n",
      "|Ford Torino (sw)                |\n",
      "|Plymouth Satellite (sw)         |\n",
      "|AMC Rebel SST (sw)              |\n",
      "|Dodge Challenger SE             |\n",
      "|Plymouth 'Cuda 340              |\n",
      "|Ford Mustang Boss 302           |\n",
      "|Chevrolet Monte Carlo           |\n",
      "|Buick Estate Wagon (sw)         |\n",
      "+--------------------------------+\n",
      "only showing top 20 rows\n",
      "\n"
     ]
    }
   ],
   "source": [
    "print(df['car'])\n",
    "print(\"*\"*20)\n",
    "df.select(df['car']).show(truncate=False)"
   ]
  },
  {
   "cell_type": "code",
   "execution_count": 22,
   "metadata": {
    "colab": {
     "base_uri": "https://localhost:8080/"
    },
    "id": "sxDNZyXPy2dx",
    "outputId": "97d0417a-b7b5-4d4e-b4d4-889395afc2ba"
   },
   "outputs": [
    {
     "name": "stdout",
     "output_type": "stream",
     "text": [
      "+--------------------------------+\n",
      "|car                             |\n",
      "+--------------------------------+\n",
      "|Chevrolet Chevelle Malibu       |\n",
      "|Buick Skylark 320               |\n",
      "|Plymouth Satellite              |\n",
      "|AMC Rebel SST                   |\n",
      "|Ford Torino                     |\n",
      "|Ford Galaxie 500                |\n",
      "|Chevrolet Impala                |\n",
      "|Plymouth Fury iii               |\n",
      "|Pontiac Catalina                |\n",
      "|AMC Ambassador DPL              |\n",
      "|Citroen DS-21 Pallas            |\n",
      "|Chevrolet Chevelle Concours (sw)|\n",
      "|Ford Torino (sw)                |\n",
      "|Plymouth Satellite (sw)         |\n",
      "|AMC Rebel SST (sw)              |\n",
      "|Dodge Challenger SE             |\n",
      "|Plymouth 'Cuda 340              |\n",
      "|Ford Mustang Boss 302           |\n",
      "|Chevrolet Monte Carlo           |\n",
      "|Buick Estate Wagon (sw)         |\n",
      "+--------------------------------+\n",
      "only showing top 20 rows\n",
      "\n"
     ]
    }
   ],
   "source": [
    "from pyspark.sql.functions import col\n",
    "df.select(col(\"car\")).show(truncate=False)"
   ]
  },
  {
   "cell_type": "code",
   "execution_count": 23,
   "metadata": {
    "colab": {
     "base_uri": "https://localhost:8080/"
    },
    "id": "a3v0nOkyzZ8j",
    "outputId": "815f6192-37e1-4569-80fe-e04b6b3ff8d3"
   },
   "outputs": [
    {
     "name": "stdout",
     "output_type": "stream",
     "text": [
      "Column<'Car'> Column<'Cylinders'>\n",
      "****************************************\n",
      "+--------------------------------+---------+\n",
      "|Car                             |Cylinders|\n",
      "+--------------------------------+---------+\n",
      "|Chevrolet Chevelle Malibu       |8        |\n",
      "|Buick Skylark 320               |8        |\n",
      "|Plymouth Satellite              |8        |\n",
      "|AMC Rebel SST                   |8        |\n",
      "|Ford Torino                     |8        |\n",
      "|Ford Galaxie 500                |8        |\n",
      "|Chevrolet Impala                |8        |\n",
      "|Plymouth Fury iii               |8        |\n",
      "|Pontiac Catalina                |8        |\n",
      "|AMC Ambassador DPL              |8        |\n",
      "|Citroen DS-21 Pallas            |4        |\n",
      "|Chevrolet Chevelle Concours (sw)|8        |\n",
      "|Ford Torino (sw)                |8        |\n",
      "|Plymouth Satellite (sw)         |8        |\n",
      "|AMC Rebel SST (sw)              |8        |\n",
      "|Dodge Challenger SE             |8        |\n",
      "|Plymouth 'Cuda 340              |8        |\n",
      "|Ford Mustang Boss 302           |8        |\n",
      "|Chevrolet Monte Carlo           |8        |\n",
      "|Buick Estate Wagon (sw)         |8        |\n",
      "+--------------------------------+---------+\n",
      "only showing top 20 rows\n",
      "\n"
     ]
    }
   ],
   "source": [
    "# M1\n",
    "print(df.Car, df.Cylinders)\n",
    "print(\"*\"*40)\n",
    "df.select(df.Car, df.Cylinders).show(truncate=False)"
   ]
  },
  {
   "cell_type": "code",
   "execution_count": 24,
   "metadata": {
    "colab": {
     "base_uri": "https://localhost:8080/"
    },
    "id": "0ZngklQH0Jwj",
    "outputId": "0d4506e3-53b9-414d-956c-3ab2997aa8be"
   },
   "outputs": [
    {
     "name": "stdout",
     "output_type": "stream",
     "text": [
      "Column<'car'> Column<'cylinders'>\n",
      "****************************************\n",
      "+--------------------------------+---------+\n",
      "|car                             |cylinders|\n",
      "+--------------------------------+---------+\n",
      "|Chevrolet Chevelle Malibu       |8        |\n",
      "|Buick Skylark 320               |8        |\n",
      "|Plymouth Satellite              |8        |\n",
      "|AMC Rebel SST                   |8        |\n",
      "|Ford Torino                     |8        |\n",
      "|Ford Galaxie 500                |8        |\n",
      "|Chevrolet Impala                |8        |\n",
      "|Plymouth Fury iii               |8        |\n",
      "|Pontiac Catalina                |8        |\n",
      "|AMC Ambassador DPL              |8        |\n",
      "|Citroen DS-21 Pallas            |4        |\n",
      "|Chevrolet Chevelle Concours (sw)|8        |\n",
      "|Ford Torino (sw)                |8        |\n",
      "|Plymouth Satellite (sw)         |8        |\n",
      "|AMC Rebel SST (sw)              |8        |\n",
      "|Dodge Challenger SE             |8        |\n",
      "|Plymouth 'Cuda 340              |8        |\n",
      "|Ford Mustang Boss 302           |8        |\n",
      "|Chevrolet Monte Carlo           |8        |\n",
      "|Buick Estate Wagon (sw)         |8        |\n",
      "+--------------------------------+---------+\n",
      "only showing top 20 rows\n",
      "\n"
     ]
    }
   ],
   "source": [
    "# M2\n",
    "print(df['car'], df['cylinders'])\n",
    "print(\"*\"*40)\n",
    "df.select(df['car'], df['cylinders']).show(truncate=False)"
   ]
  },
  {
   "cell_type": "code",
   "execution_count": 25,
   "metadata": {
    "colab": {
     "base_uri": "https://localhost:8080/"
    },
    "id": "6Olks4E33enN",
    "outputId": "0421ab58-f918-4ead-ecdc-dfac6debcd37"
   },
   "outputs": [
    {
     "name": "stdout",
     "output_type": "stream",
     "text": [
      "+--------------------------------+---------+\n",
      "|car                             |cylinders|\n",
      "+--------------------------------+---------+\n",
      "|Chevrolet Chevelle Malibu       |8        |\n",
      "|Buick Skylark 320               |8        |\n",
      "|Plymouth Satellite              |8        |\n",
      "|AMC Rebel SST                   |8        |\n",
      "|Ford Torino                     |8        |\n",
      "|Ford Galaxie 500                |8        |\n",
      "|Chevrolet Impala                |8        |\n",
      "|Plymouth Fury iii               |8        |\n",
      "|Pontiac Catalina                |8        |\n",
      "|AMC Ambassador DPL              |8        |\n",
      "|Citroen DS-21 Pallas            |4        |\n",
      "|Chevrolet Chevelle Concours (sw)|8        |\n",
      "|Ford Torino (sw)                |8        |\n",
      "|Plymouth Satellite (sw)         |8        |\n",
      "|AMC Rebel SST (sw)              |8        |\n",
      "|Dodge Challenger SE             |8        |\n",
      "|Plymouth 'Cuda 340              |8        |\n",
      "|Ford Mustang Boss 302           |8        |\n",
      "|Chevrolet Monte Carlo           |8        |\n",
      "|Buick Estate Wagon (sw)         |8        |\n",
      "+--------------------------------+---------+\n",
      "only showing top 20 rows\n",
      "\n"
     ]
    }
   ],
   "source": [
    "# M3\n",
    "from pyspark.sql.functions import col\n",
    "df.select(col('car'), col('cylinders')).show(truncate=False)"
   ]
  },
  {
   "cell_type": "code",
   "execution_count": 26,
   "metadata": {
    "colab": {
     "base_uri": "https://localhost:8080/"
    },
    "id": "grpU8yb44Siv",
    "outputId": "2d917017-88df-4cc7-fb6b-d6842555da4a"
   },
   "outputs": [
    {
     "name": "stdout",
     "output_type": "stream",
     "text": [
      "+-------------------------+----+---------+------------+----------+------+------------+-----+------+------------+\n",
      "|Car                      |MPG |Cylinders|Displacement|Horsepower|Weight|Acceleration|Model|Origin|first_column|\n",
      "+-------------------------+----+---------+------------+----------+------+------------+-----+------+------------+\n",
      "|Chevrolet Chevelle Malibu|18.0|8        |307.0       |130.0     |3504.0|12.0        |70   |US    |1           |\n",
      "|Buick Skylark 320        |15.0|8        |350.0       |165.0     |3693.0|11.5        |70   |US    |1           |\n",
      "|Plymouth Satellite       |18.0|8        |318.0       |150.0     |3436.0|11.0        |70   |US    |1           |\n",
      "|AMC Rebel SST            |16.0|8        |304.0       |150.0     |3433.0|12.0        |70   |US    |1           |\n",
      "|Ford Torino              |17.0|8        |302.0       |140.0     |3449.0|10.5        |70   |US    |1           |\n",
      "+-------------------------+----+---------+------------+----------+------+------------+-----+------+------------+\n",
      "only showing top 5 rows\n",
      "\n"
     ]
    }
   ],
   "source": [
    "# C1: Adding a new column\n",
    "from pyspark.sql.functions import lit\n",
    "df = df.withColumn('first_column', lit(1))\n",
    "\n",
    "df.show(5, truncate=False)"
   ]
  },
  {
   "cell_type": "code",
   "execution_count": 27,
   "metadata": {
    "colab": {
     "base_uri": "https://localhost:8080/"
    },
    "id": "8-tgpNx45va4",
    "outputId": "7bf1986c-6dc6-454e-a273-0a57413e481c"
   },
   "outputs": [
    {
     "name": "stdout",
     "output_type": "stream",
     "text": [
      "+-------------------------+----+---------+------------+----------+------+------------+-----+------+------------+-------------+------------+\n",
      "|Car                      |MPG |Cylinders|Displacement|Horsepower|Weight|Acceleration|Model|Origin|first_column|second_column|third_column|\n",
      "+-------------------------+----+---------+------------+----------+------+------------+-----+------+------------+-------------+------------+\n",
      "|Chevrolet Chevelle Malibu|18.0|8        |307.0       |130.0     |3504.0|12.0        |70   |US    |1           |2            |Third Column|\n",
      "|Buick Skylark 320        |15.0|8        |350.0       |165.0     |3693.0|11.5        |70   |US    |1           |2            |Third Column|\n",
      "|Plymouth Satellite       |18.0|8        |318.0       |150.0     |3436.0|11.0        |70   |US    |1           |2            |Third Column|\n",
      "|AMC Rebel SST            |16.0|8        |304.0       |150.0     |3433.0|12.0        |70   |US    |1           |2            |Third Column|\n",
      "|Ford Torino              |17.0|8        |302.0       |140.0     |3449.0|10.5        |70   |US    |1           |2            |Third Column|\n",
      "+-------------------------+----+---------+------------+----------+------+------------+-----+------+------------+-------------+------------+\n",
      "only showing top 5 rows\n",
      "\n"
     ]
    }
   ],
   "source": [
    "# C2\n",
    "df = df.withColumn('second_column', lit(2)) \\\n",
    "      .withColumn('third_column', lit('Third Column'))\n",
    "df.show(5, truncate=False)"
   ]
  },
  {
   "cell_type": "code",
   "execution_count": 28,
   "metadata": {
    "colab": {
     "base_uri": "https://localhost:8080/"
    },
    "id": "SW3xaSxA6ZL_",
    "outputId": "db57a8b6-3a12-4956-e106-ed151a019775"
   },
   "outputs": [
    {
     "name": "stdout",
     "output_type": "stream",
     "text": [
      "+-------------------------+----+---------+------------+----------+------+------------+-----+------+------------+-------------+------------+----------------------------+\n",
      "|Car                      |MPG |Cylinders|Displacement|Horsepower|Weight|Acceleration|Model|Origin|first_column|second_column|third_column|car_model                   |\n",
      "+-------------------------+----+---------+------------+----------+------+------------+-----+------+------------+-------------+------------+----------------------------+\n",
      "|Chevrolet Chevelle Malibu|18.0|8        |307.0       |130.0     |3504.0|12.0        |70   |US    |1           |2            |Third Column|Chevrolet Chevelle Malibu 70|\n",
      "|Buick Skylark 320        |15.0|8        |350.0       |165.0     |3693.0|11.5        |70   |US    |1           |2            |Third Column|Buick Skylark 320 70        |\n",
      "|Plymouth Satellite       |18.0|8        |318.0       |150.0     |3436.0|11.0        |70   |US    |1           |2            |Third Column|Plymouth Satellite 70       |\n",
      "|AMC Rebel SST            |16.0|8        |304.0       |150.0     |3433.0|12.0        |70   |US    |1           |2            |Third Column|AMC Rebel SST 70            |\n",
      "|Ford Torino              |17.0|8        |302.0       |140.0     |3449.0|10.5        |70   |US    |1           |2            |Third Column|Ford Torino 70              |\n",
      "+-------------------------+----+---------+------------+----------+------+------------+-----+------+------------+-------------+------------+----------------------------+\n",
      "only showing top 5 rows\n",
      "\n"
     ]
    }
   ],
   "source": [
    "# C3\n",
    "from pyspark.sql.functions import concat\n",
    "df = df.withColumn('car_model', concat(col(\"Car\"), lit(\" \"), col(\"model\")))\n",
    "df.show(5,truncate=False)"
   ]
  },
  {
   "cell_type": "code",
   "execution_count": 29,
   "metadata": {
    "colab": {
     "base_uri": "https://localhost:8080/"
    },
    "id": "ryaJaJKA7LXR",
    "outputId": "60e24879-f324-487e-fa4c-257bd80df735"
   },
   "outputs": [
    {
     "name": "stdout",
     "output_type": "stream",
     "text": [
      "+--------------------------------+----+---------+------------+----------+------+------------+-----+------+--------------+--------------+----------------+-----------------------------------+\n",
      "|Car                             |MPG |Cylinders|Displacement|Horsepower|Weight|Acceleration|Model|Origin|new_column_one|new_column_two|new_column_three|car_model                          |\n",
      "+--------------------------------+----+---------+------------+----------+------+------------+-----+------+--------------+--------------+----------------+-----------------------------------+\n",
      "|Chevrolet Chevelle Malibu       |18.0|8        |307.0       |130.0     |3504.0|12.0        |70   |US    |1             |2             |Third Column    |Chevrolet Chevelle Malibu 70       |\n",
      "|Buick Skylark 320               |15.0|8        |350.0       |165.0     |3693.0|11.5        |70   |US    |1             |2             |Third Column    |Buick Skylark 320 70               |\n",
      "|Plymouth Satellite              |18.0|8        |318.0       |150.0     |3436.0|11.0        |70   |US    |1             |2             |Third Column    |Plymouth Satellite 70              |\n",
      "|AMC Rebel SST                   |16.0|8        |304.0       |150.0     |3433.0|12.0        |70   |US    |1             |2             |Third Column    |AMC Rebel SST 70                   |\n",
      "|Ford Torino                     |17.0|8        |302.0       |140.0     |3449.0|10.5        |70   |US    |1             |2             |Third Column    |Ford Torino 70                     |\n",
      "|Ford Galaxie 500                |15.0|8        |429.0       |198.0     |4341.0|10.0        |70   |US    |1             |2             |Third Column    |Ford Galaxie 500 70                |\n",
      "|Chevrolet Impala                |14.0|8        |454.0       |220.0     |4354.0|9.0         |70   |US    |1             |2             |Third Column    |Chevrolet Impala 70                |\n",
      "|Plymouth Fury iii               |14.0|8        |440.0       |215.0     |4312.0|8.5         |70   |US    |1             |2             |Third Column    |Plymouth Fury iii 70               |\n",
      "|Pontiac Catalina                |14.0|8        |455.0       |225.0     |4425.0|10.0        |70   |US    |1             |2             |Third Column    |Pontiac Catalina 70                |\n",
      "|AMC Ambassador DPL              |15.0|8        |390.0       |190.0     |3850.0|8.5         |70   |US    |1             |2             |Third Column    |AMC Ambassador DPL 70              |\n",
      "|Citroen DS-21 Pallas            |0.0 |4        |133.0       |115.0     |3090.0|17.5        |70   |Europe|1             |2             |Third Column    |Citroen DS-21 Pallas 70            |\n",
      "|Chevrolet Chevelle Concours (sw)|0.0 |8        |350.0       |165.0     |4142.0|11.5        |70   |US    |1             |2             |Third Column    |Chevrolet Chevelle Concours (sw) 70|\n",
      "|Ford Torino (sw)                |0.0 |8        |351.0       |153.0     |4034.0|11.0        |70   |US    |1             |2             |Third Column    |Ford Torino (sw) 70                |\n",
      "|Plymouth Satellite (sw)         |0.0 |8        |383.0       |175.0     |4166.0|10.5        |70   |US    |1             |2             |Third Column    |Plymouth Satellite (sw) 70         |\n",
      "|AMC Rebel SST (sw)              |0.0 |8        |360.0       |175.0     |3850.0|11.0        |70   |US    |1             |2             |Third Column    |AMC Rebel SST (sw) 70              |\n",
      "|Dodge Challenger SE             |15.0|8        |383.0       |170.0     |3563.0|10.0        |70   |US    |1             |2             |Third Column    |Dodge Challenger SE 70             |\n",
      "|Plymouth 'Cuda 340              |14.0|8        |340.0       |160.0     |3609.0|8.0         |70   |US    |1             |2             |Third Column    |Plymouth 'Cuda 340 70              |\n",
      "|Ford Mustang Boss 302           |0.0 |8        |302.0       |140.0     |3353.0|8.0         |70   |US    |1             |2             |Third Column    |Ford Mustang Boss 302 70           |\n",
      "|Chevrolet Monte Carlo           |15.0|8        |400.0       |150.0     |3761.0|9.5         |70   |US    |1             |2             |Third Column    |Chevrolet Monte Carlo 70           |\n",
      "|Buick Estate Wagon (sw)         |14.0|8        |455.0       |225.0     |3086.0|10.0        |70   |US    |1             |2             |Third Column    |Buick Estate Wagon (sw) 70         |\n",
      "+--------------------------------+----+---------+------------+----------+------+------------+-----+------+--------------+--------------+----------------+-----------------------------------+\n",
      "only showing top 20 rows\n",
      "\n"
     ]
    }
   ],
   "source": [
    "#Renaming a column in PySpark\n",
    "df = df.withColumnRenamed('first_column', 'new_column_one') \\\n",
    "       .withColumnRenamed('second_column', 'new_column_two') \\\n",
    "       .withColumnRenamed('third_column', 'new_column_three')\n",
    "df.show(truncate=False)"
   ]
  },
  {
   "cell_type": "code",
   "execution_count": 30,
   "metadata": {
    "colab": {
     "base_uri": "https://localhost:8080/"
    },
    "id": "-_zelHKE8Fy3",
    "outputId": "387c73d6-94d9-496e-efb1-ec175570804e"
   },
   "outputs": [
    {
     "name": "stdout",
     "output_type": "stream",
     "text": [
      "+------+-----+\n",
      "|Origin|count|\n",
      "+------+-----+\n",
      "|Europe|   73|\n",
      "|    US|  254|\n",
      "| Japan|   79|\n",
      "+------+-----+\n",
      "\n"
     ]
    }
   ],
   "source": [
    "df.groupBy('Origin').count().show()"
   ]
  },
  {
   "cell_type": "code",
   "execution_count": 31,
   "metadata": {
    "colab": {
     "base_uri": "https://localhost:8080/"
    },
    "id": "HT6AuN8Q8uf8",
    "outputId": "af3138b7-0794-42b1-94be-a54ed71c04bb"
   },
   "outputs": [
    {
     "name": "stdout",
     "output_type": "stream",
     "text": [
      "+------+-----+-----+\n",
      "|Origin|Model|count|\n",
      "+------+-----+-----+\n",
      "|Europe|   71|    5|\n",
      "|Europe|   80|    9|\n",
      "|Europe|   79|    4|\n",
      "| Japan|   75|    4|\n",
      "|    US|   72|   18|\n",
      "+------+-----+-----+\n",
      "only showing top 5 rows\n",
      "\n"
     ]
    }
   ],
   "source": [
    "df.groupBy('Origin', 'Model').count().show(5)"
   ]
  },
  {
   "cell_type": "code",
   "execution_count": 32,
   "metadata": {
    "colab": {
     "base_uri": "https://localhost:8080/"
    },
    "id": "eh1p84DS887E",
    "outputId": "91b58427-4062-4ce0-9754-be76aafaed48"
   },
   "outputs": [
    {
     "name": "stdout",
     "output_type": "stream",
     "text": [
      "+-------------------------+----+---------+------------+----------+------+------------+-----+------+--------------+----------------+----------------------------+\n",
      "|Car                      |MPG |Cylinders|Displacement|Horsepower|Weight|Acceleration|Model|Origin|new_column_two|new_column_three|car_model                   |\n",
      "+-------------------------+----+---------+------------+----------+------+------------+-----+------+--------------+----------------+----------------------------+\n",
      "|Chevrolet Chevelle Malibu|18.0|8        |307.0       |130.0     |3504.0|12.0        |70   |US    |2             |Third Column    |Chevrolet Chevelle Malibu 70|\n",
      "|Buick Skylark 320        |15.0|8        |350.0       |165.0     |3693.0|11.5        |70   |US    |2             |Third Column    |Buick Skylark 320 70        |\n",
      "|Plymouth Satellite       |18.0|8        |318.0       |150.0     |3436.0|11.0        |70   |US    |2             |Third Column    |Plymouth Satellite 70       |\n",
      "|AMC Rebel SST            |16.0|8        |304.0       |150.0     |3433.0|12.0        |70   |US    |2             |Third Column    |AMC Rebel SST 70            |\n",
      "|Ford Torino              |17.0|8        |302.0       |140.0     |3449.0|10.5        |70   |US    |2             |Third Column    |Ford Torino 70              |\n",
      "+-------------------------+----+---------+------------+----------+------+------------+-----+------+--------------+----------------+----------------------------+\n",
      "only showing top 5 rows\n",
      "\n"
     ]
    }
   ],
   "source": [
    "df = df.drop('new_column_one')\n",
    "df.show(5, truncate=False)"
   ]
  },
  {
   "cell_type": "code",
   "execution_count": 33,
   "metadata": {
    "colab": {
     "base_uri": "https://localhost:8080/"
    },
    "id": "SRYKywrz9KoV",
    "outputId": "24c2f8e7-075e-47a3-be54-a307541c3075"
   },
   "outputs": [
    {
     "name": "stdout",
     "output_type": "stream",
     "text": [
      "+-------------------------+----+---------+------------+----------+------+------------+-----+------+----------------------------+\n",
      "|Car                      |MPG |Cylinders|Displacement|Horsepower|Weight|Acceleration|Model|Origin|car_model                   |\n",
      "+-------------------------+----+---------+------------+----------+------+------------+-----+------+----------------------------+\n",
      "|Chevrolet Chevelle Malibu|18.0|8        |307.0       |130.0     |3504.0|12.0        |70   |US    |Chevrolet Chevelle Malibu 70|\n",
      "|Buick Skylark 320        |15.0|8        |350.0       |165.0     |3693.0|11.5        |70   |US    |Buick Skylark 320 70        |\n",
      "|Plymouth Satellite       |18.0|8        |318.0       |150.0     |3436.0|11.0        |70   |US    |Plymouth Satellite 70       |\n",
      "|AMC Rebel SST            |16.0|8        |304.0       |150.0     |3433.0|12.0        |70   |US    |AMC Rebel SST 70            |\n",
      "|Ford Torino              |17.0|8        |302.0       |140.0     |3449.0|10.5        |70   |US    |Ford Torino 70              |\n",
      "+-------------------------+----+---------+------------+----------+------+------------+-----+------+----------------------------+\n",
      "only showing top 5 rows\n",
      "\n"
     ]
    }
   ],
   "source": [
    "# remove multiple column\n",
    "df = df.drop('new_column_two') \\\n",
    ".drop('new_column_three')\n",
    "df.show(5, truncate=False)"
   ]
  },
  {
   "cell_type": "markdown",
   "metadata": {
    "id": "UJavE6ZkLNiR"
   },
   "source": [
    "## **DataFrame Operations on Row**"
   ]
  },
  {
   "cell_type": "markdown",
   "metadata": {
    "id": "E8_9BRcuLjJk"
   },
   "source": [
    "Filtering Rows"
   ]
  },
  {
   "cell_type": "code",
   "execution_count": 34,
   "metadata": {
    "colab": {
     "base_uri": "https://localhost:8080/"
    },
    "id": "KErP0L8qJ6uD",
    "outputId": "8eaf8341-e6fc-48a7-aa96-9f259f63abe5"
   },
   "outputs": [
    {
     "name": "stdout",
     "output_type": "stream",
     "text": [
      "Total Record Count: 406\n",
      "Europe Filtered Record Count: 73\n",
      "+----------------------------+----+---------+------------+----------+------+------------+-----+------+-------------------------------+\n",
      "|Car                         |MPG |Cylinders|Displacement|Horsepower|Weight|Acceleration|Model|Origin|car_model                      |\n",
      "+----------------------------+----+---------+------------+----------+------+------------+-----+------+-------------------------------+\n",
      "|Citroen DS-21 Pallas        |0.0 |4        |133.0       |115.0     |3090.0|17.5        |70   |Europe|Citroen DS-21 Pallas 70        |\n",
      "|Volkswagen 1131 Deluxe Sedan|26.0|4        |97.0        |46.0      |1835.0|20.5        |70   |Europe|Volkswagen 1131 Deluxe Sedan 70|\n",
      "|Peugeot 504                 |25.0|4        |110.0       |87.0      |2672.0|17.5        |70   |Europe|Peugeot 504 70                 |\n",
      "|Audi 100 LS                 |24.0|4        |107.0       |90.0      |2430.0|14.5        |70   |Europe|Audi 100 LS 70                 |\n",
      "|Saab 99e                    |25.0|4        |104.0       |95.0      |2375.0|17.5        |70   |Europe|Saab 99e 70                    |\n",
      "|BMW 2002                    |26.0|4        |121.0       |113.0     |2234.0|12.5        |70   |Europe|BMW 2002 70                    |\n",
      "|Volkswagen Super Beetle 117 |0.0 |4        |97.0        |48.0      |1978.0|20.0        |71   |Europe|Volkswagen Super Beetle 117 71 |\n",
      "|Opel 1900                   |28.0|4        |116.0       |90.0      |2123.0|14.0        |71   |Europe|Opel 1900 71                   |\n",
      "|Peugeot 304                 |30.0|4        |79.0        |70.0      |2074.0|19.5        |71   |Europe|Peugeot 304 71                 |\n",
      "|Fiat 124B                   |30.0|4        |88.0        |76.0      |2065.0|14.5        |71   |Europe|Fiat 124B 71                   |\n",
      "|Volkswagen Model 111        |27.0|4        |97.0        |60.0      |1834.0|19.0        |71   |Europe|Volkswagen Model 111 71        |\n",
      "|Volkswagen Type 3           |23.0|4        |97.0        |54.0      |2254.0|23.5        |72   |Europe|Volkswagen Type 3 72           |\n",
      "|Volvo 145e (sw)             |18.0|4        |121.0       |112.0     |2933.0|14.5        |72   |Europe|Volvo 145e (sw) 72             |\n",
      "|Volkswagen 411 (sw)         |22.0|4        |121.0       |76.0      |2511.0|18.0        |72   |Europe|Volkswagen 411 (sw) 72         |\n",
      "|Peugeot 504 (sw)            |21.0|4        |120.0       |87.0      |2979.0|19.5        |72   |Europe|Peugeot 504 (sw) 72            |\n",
      "|Renault 12 (sw)             |26.0|4        |96.0        |69.0      |2189.0|18.0        |72   |Europe|Renault 12 (sw) 72             |\n",
      "|Volkswagen Super Beetle     |26.0|4        |97.0        |46.0      |1950.0|21.0        |73   |Europe|Volkswagen Super Beetle 73     |\n",
      "|Fiat 124 Sport Coupe        |26.0|4        |98.0        |90.0      |2265.0|15.5        |73   |Europe|Fiat 124 Sport Coupe 73        |\n",
      "|Fiat 128                    |29.0|4        |68.0        |49.0      |1867.0|19.5        |73   |Europe|Fiat 128 73                    |\n",
      "|Opel Manta                  |24.0|4        |116.0       |75.0      |2158.0|15.5        |73   |Europe|Opel Manta 73                  |\n",
      "+----------------------------+----+---------+------------+----------+------+------------+-----+------+-------------------------------+\n",
      "only showing top 20 rows\n",
      "\n"
     ]
    }
   ],
   "source": [
    "# Filtering eows in pyspark\n",
    "total_count = df.count()\n",
    "print(\"Total Record Count: \" + str(total_count))\n",
    "europe_filttered_count = df.filter(col('Origin') == 'Europe').count()\n",
    "print(\"Europe Filtered Record Count: \" + str(europe_filttered_count))\n",
    "df.filter(col('origin')=='Europe').show(truncate=False)"
   ]
  },
  {
   "cell_type": "code",
   "execution_count": 39,
   "metadata": {
    "colab": {
     "base_uri": "https://localhost:8080/"
    },
    "id": "CXY5ZNCWMgv0",
    "outputId": "102c0235-a0fb-4707-dc6d-0756b6337425"
   },
   "outputs": [
    {
     "name": "stdout",
     "output_type": "stream",
     "text": [
      "Total Record Count: 406\n",
      "Europe Filtered Record Count: 66\n",
      "+----------------------------+----+---------+------------+----------+------+------------+-----+------+-------------------------------+\n",
      "|Car                         |MPG |Cylinders|Displacement|Horsepower|Weight|Acceleration|Model|Origin|car_model                      |\n",
      "+----------------------------+----+---------+------------+----------+------+------------+-----+------+-------------------------------+\n",
      "|Citroen DS-21 Pallas        |0.0 |4        |133.0       |115.0     |3090.0|17.5        |70   |Europe|Citroen DS-21 Pallas 70        |\n",
      "|Volkswagen 1131 Deluxe Sedan|26.0|4        |97.0        |46.0      |1835.0|20.5        |70   |Europe|Volkswagen 1131 Deluxe Sedan 70|\n",
      "|Peugeot 504                 |25.0|4        |110.0       |87.0      |2672.0|17.5        |70   |Europe|Peugeot 504 70                 |\n",
      "|Audi 100 LS                 |24.0|4        |107.0       |90.0      |2430.0|14.5        |70   |Europe|Audi 100 LS 70                 |\n",
      "|Saab 99e                    |25.0|4        |104.0       |95.0      |2375.0|17.5        |70   |Europe|Saab 99e 70                    |\n",
      "|BMW 2002                    |26.0|4        |121.0       |113.0     |2234.0|12.5        |70   |Europe|BMW 2002 70                    |\n",
      "|Volkswagen Super Beetle 117 |0.0 |4        |97.0        |48.0      |1978.0|20.0        |71   |Europe|Volkswagen Super Beetle 117 71 |\n",
      "|Opel 1900                   |28.0|4        |116.0       |90.0      |2123.0|14.0        |71   |Europe|Opel 1900 71                   |\n",
      "|Peugeot 304                 |30.0|4        |79.0        |70.0      |2074.0|19.5        |71   |Europe|Peugeot 304 71                 |\n",
      "|Fiat 124B                   |30.0|4        |88.0        |76.0      |2065.0|14.5        |71   |Europe|Fiat 124B 71                   |\n",
      "|Volkswagen Model 111        |27.0|4        |97.0        |60.0      |1834.0|19.0        |71   |Europe|Volkswagen Model 111 71        |\n",
      "|Volkswagen Type 3           |23.0|4        |97.0        |54.0      |2254.0|23.5        |72   |Europe|Volkswagen Type 3 72           |\n",
      "|Volvo 145e (sw)             |18.0|4        |121.0       |112.0     |2933.0|14.5        |72   |Europe|Volvo 145e (sw) 72             |\n",
      "|Volkswagen 411 (sw)         |22.0|4        |121.0       |76.0      |2511.0|18.0        |72   |Europe|Volkswagen 411 (sw) 72         |\n",
      "|Peugeot 504 (sw)            |21.0|4        |120.0       |87.0      |2979.0|19.5        |72   |Europe|Peugeot 504 (sw) 72            |\n",
      "|Renault 12 (sw)             |26.0|4        |96.0        |69.0      |2189.0|18.0        |72   |Europe|Renault 12 (sw) 72             |\n",
      "|Volkswagen Super Beetle     |26.0|4        |97.0        |46.0      |1950.0|21.0        |73   |Europe|Volkswagen Super Beetle 73     |\n",
      "|Fiat 124 Sport Coupe        |26.0|4        |98.0        |90.0      |2265.0|15.5        |73   |Europe|Fiat 124 Sport Coupe 73        |\n",
      "|Fiat 128                    |29.0|4        |68.0        |49.0      |1867.0|19.5        |73   |Europe|Fiat 128 73                    |\n",
      "|Opel Manta                  |24.0|4        |116.0       |75.0      |2158.0|15.5        |73   |Europe|Opel Manta 73                  |\n",
      "+----------------------------+----+---------+------------+----------+------+------------+-----+------+-------------------------------+\n",
      "only showing top 20 rows\n",
      "\n"
     ]
    }
   ],
   "source": [
    "# Filtering rows in Pyspark based on multiple conditions\n",
    "total_count = df.count()\n",
    "print('Total Record Count: '+ str(total_count))\n",
    "europe_filttered_count = df.filter((col('Origin')=='Europe') &\n",
    "                                    (col('Cylinders')==4)).count()\n",
    "print(\"Europe Filtered Record Count: \" + str(europe_filttered_count))\n",
    "df.filter(col('Origin')=='Europe').show(truncate=False)"
   ]
  },
  {
   "cell_type": "markdown",
   "metadata": {
    "id": "4GlP1P1mOviw"
   },
   "source": [
    "### Get Distinct Rows"
   ]
  },
  {
   "cell_type": "code",
   "execution_count": 40,
   "metadata": {
    "colab": {
     "base_uri": "https://localhost:8080/"
    },
    "id": "6SAvV4wUOEdh",
    "outputId": "c3587aa0-0791-4082-b4be-dab69dfedb84"
   },
   "outputs": [
    {
     "name": "stdout",
     "output_type": "stream",
     "text": [
      "+------+\n",
      "|Origin|\n",
      "+------+\n",
      "|Europe|\n",
      "|    US|\n",
      "| Japan|\n",
      "+------+\n",
      "\n"
     ]
    }
   ],
   "source": [
    "df.select('Origin').distinct().show()"
   ]
  },
  {
   "cell_type": "code",
   "execution_count": 41,
   "metadata": {
    "colab": {
     "base_uri": "https://localhost:8080/"
    },
    "id": "IboYLDrGO_Mh",
    "outputId": "45233062-dbe5-488d-86d0-b81198475a0b"
   },
   "outputs": [
    {
     "name": "stdout",
     "output_type": "stream",
     "text": [
      "+------+-----+\n",
      "|Origin|model|\n",
      "+------+-----+\n",
      "|Europe|   71|\n",
      "|Europe|   80|\n",
      "|Europe|   79|\n",
      "| Japan|   75|\n",
      "|    US|   72|\n",
      "|    US|   80|\n",
      "|Europe|   74|\n",
      "| Japan|   79|\n",
      "|Europe|   76|\n",
      "|    US|   75|\n",
      "| Japan|   77|\n",
      "|    US|   82|\n",
      "| Japan|   80|\n",
      "| Japan|   78|\n",
      "|    US|   78|\n",
      "|Europe|   75|\n",
      "|    US|   71|\n",
      "|    US|   77|\n",
      "| Japan|   70|\n",
      "| Japan|   71|\n",
      "+------+-----+\n",
      "only showing top 20 rows\n",
      "\n"
     ]
    }
   ],
   "source": [
    "df.select('Origin', 'model').distinct().show()"
   ]
  },
  {
   "cell_type": "code",
   "execution_count": 44,
   "metadata": {
    "colab": {
     "base_uri": "https://localhost:8080/"
    },
    "id": "7S_1hwwKPFxf",
    "outputId": "a6207793-a62f-4615-98c5-6cceafcd1dc6"
   },
   "outputs": [
    {
     "name": "stdout",
     "output_type": "stream",
     "text": [
      "+----------------------------+----+---------+------------+----------+------+------------+-----+------+-------------------------------+\n",
      "|Car                         |MPG |Cylinders|Displacement|Horsepower|Weight|Acceleration|Model|Origin|car_model                      |\n",
      "+----------------------------+----+---------+------------+----------+------+------------+-----+------+-------------------------------+\n",
      "|Mazda RX-4                  |21.5|3        |80.0        |110.0     |2720.0|13.5        |77   |Japan |Mazda RX-4 77                  |\n",
      "|Mazda RX-7 GS               |23.7|3        |70.0        |100.0     |2420.0|12.5        |80   |Japan |Mazda RX-7 GS 80               |\n",
      "|Mazda RX2 Coupe             |19.0|3        |70.0        |97.0      |2330.0|13.5        |72   |Japan |Mazda RX2 Coupe 72             |\n",
      "|Mazda RX3                   |18.0|3        |70.0        |90.0      |2124.0|13.5        |73   |Japan |Mazda RX3 73                   |\n",
      "|Datsun 510 (sw)             |28.0|4        |97.0        |92.0      |2288.0|17.0        |72   |Japan |Datsun 510 (sw) 72             |\n",
      "|Opel 1900                   |28.0|4        |116.0       |90.0      |2123.0|14.0        |71   |Europe|Opel 1900 71                   |\n",
      "|Mercury Capri 2000          |23.0|4        |122.0       |86.0      |2220.0|14.0        |71   |US    |Mercury Capri 2000 71          |\n",
      "|Volkswagen 1131 Deluxe Sedan|26.0|4        |97.0        |46.0      |1835.0|20.5        |70   |Europe|Volkswagen 1131 Deluxe Sedan 70|\n",
      "|Peugeot 304                 |30.0|4        |79.0        |70.0      |2074.0|19.5        |71   |Europe|Peugeot 304 71                 |\n",
      "|Fiat 124B                   |30.0|4        |88.0        |76.0      |2065.0|14.5        |71   |Europe|Fiat 124B 71                   |\n",
      "|Chevrolet Vega (sw)         |22.0|4        |140.0       |72.0      |2408.0|19.0        |71   |US    |Chevrolet Vega (sw) 71         |\n",
      "|Datsun 1200                 |35.0|4        |72.0        |69.0      |1613.0|18.0        |71   |Japan |Datsun 1200 71                 |\n",
      "|Volkswagen Model 111        |27.0|4        |97.0        |60.0      |1834.0|19.0        |71   |Europe|Volkswagen Model 111 71        |\n",
      "|Volkswagen Type 3           |23.0|4        |97.0        |54.0      |2254.0|23.5        |72   |Europe|Volkswagen Type 3 72           |\n",
      "|Audi 100 LS                 |24.0|4        |107.0       |90.0      |2430.0|14.5        |70   |Europe|Audi 100 LS 70                 |\n",
      "|BMW 2002                    |26.0|4        |121.0       |113.0     |2234.0|12.5        |70   |Europe|BMW 2002 70                    |\n",
      "|Toyota Corolla 1200         |31.0|4        |71.0        |65.0      |1773.0|19.0        |71   |Japan |Toyota Corolla 1200 71         |\n",
      "|Chevrolet Vega 2300         |28.0|4        |140.0       |90.0      |2264.0|15.5        |71   |US    |Chevrolet Vega 2300 71         |\n",
      "|Ford Pinto                  |25.0|4        |98.0        |0.0       |2046.0|19.0        |71   |US    |Ford Pinto 71                  |\n",
      "|Dodge Colt Hardtop          |25.0|4        |97.5        |80.0      |2126.0|17.0        |72   |US    |Dodge Colt Hardtop 72          |\n",
      "+----------------------------+----+---------+------------+----------+------+------------+-----+------+-------------------------------+\n",
      "only showing top 20 rows\n",
      "\n"
     ]
    }
   ],
   "source": [
    "# Sort Rows in Pyspark\n",
    "df.orderBy('Cylinders').show(truncate=False)"
   ]
  },
  {
   "cell_type": "code",
   "execution_count": 45,
   "metadata": {
    "colab": {
     "base_uri": "https://localhost:8080/"
    },
    "id": "ij8rQ5xrPdO-",
    "outputId": "29c0b9e9-0333-43b5-e0e8-b98bb7592e51"
   },
   "outputs": [
    {
     "name": "stdout",
     "output_type": "stream",
     "text": [
      "+-------------------------+----+---------+------------+----------+------+------------+-----+------+----------------------------+\n",
      "|Car                      |MPG |Cylinders|Displacement|Horsepower|Weight|Acceleration|Model|Origin|car_model                   |\n",
      "+-------------------------+----+---------+------------+----------+------+------------+-----+------+----------------------------+\n",
      "|Plymouth 'Cuda 340       |14.0|8        |340.0       |160.0     |3609.0|8.0         |70   |US    |Plymouth 'Cuda 340 70       |\n",
      "|Pontiac Safari (sw)      |13.0|8        |400.0       |175.0     |5140.0|12.0        |71   |US    |Pontiac Safari (sw) 71      |\n",
      "|Ford Mustang Boss 302    |0.0 |8        |302.0       |140.0     |3353.0|8.0         |70   |US    |Ford Mustang Boss 302 70    |\n",
      "|Buick Skylark 320        |15.0|8        |350.0       |165.0     |3693.0|11.5        |70   |US    |Buick Skylark 320 70        |\n",
      "|Chevrolet Monte Carlo    |15.0|8        |400.0       |150.0     |3761.0|9.5         |70   |US    |Chevrolet Monte Carlo 70    |\n",
      "|AMC Rebel SST            |16.0|8        |304.0       |150.0     |3433.0|12.0        |70   |US    |AMC Rebel SST 70            |\n",
      "|Buick Estate Wagon (sw)  |14.0|8        |455.0       |225.0     |3086.0|10.0        |70   |US    |Buick Estate Wagon (sw) 70  |\n",
      "|Ford Galaxie 500         |15.0|8        |429.0       |198.0     |4341.0|10.0        |70   |US    |Ford Galaxie 500 70         |\n",
      "|Ford F250                |10.0|8        |360.0       |215.0     |4615.0|14.0        |70   |US    |Ford F250 70                |\n",
      "|Plymouth Fury iii        |14.0|8        |440.0       |215.0     |4312.0|8.5         |70   |US    |Plymouth Fury iii 70        |\n",
      "|Chevy C20                |10.0|8        |307.0       |200.0     |4376.0|15.0        |70   |US    |Chevy C20 70                |\n",
      "|AMC Ambassador DPL       |15.0|8        |390.0       |190.0     |3850.0|8.5         |70   |US    |AMC Ambassador DPL 70       |\n",
      "|Dodge D200               |11.0|8        |318.0       |210.0     |4382.0|13.5        |70   |US    |Dodge D200 70               |\n",
      "|Ford Torino (sw)         |0.0 |8        |351.0       |153.0     |4034.0|11.0        |70   |US    |Ford Torino (sw) 70         |\n",
      "|Hi 1200D                 |9.0 |8        |304.0       |193.0     |4732.0|18.5        |70   |US    |Hi 1200D 70                 |\n",
      "|AMC Rebel SST (sw)       |0.0 |8        |360.0       |175.0     |3850.0|11.0        |70   |US    |AMC Rebel SST (sw) 70       |\n",
      "|Chevrolet Impala         |14.0|8        |350.0       |165.0     |4209.0|12.0        |71   |US    |Chevrolet Impala 71         |\n",
      "|Chevrolet Chevelle Malibu|18.0|8        |307.0       |130.0     |3504.0|12.0        |70   |US    |Chevrolet Chevelle Malibu 70|\n",
      "|Pontiac Catalina Brougham|14.0|8        |400.0       |175.0     |4464.0|11.5        |71   |US    |Pontiac Catalina Brougham 71|\n",
      "|Ford Torino              |17.0|8        |302.0       |140.0     |3449.0|10.5        |70   |US    |Ford Torino 70              |\n",
      "+-------------------------+----+---------+------------+----------+------+------------+-----+------+----------------------------+\n",
      "only showing top 20 rows\n",
      "\n"
     ]
    }
   ],
   "source": [
    "df.orderBy('Cylinders', ascending=False).show(truncate=False)"
   ]
  },
  {
   "cell_type": "code",
   "execution_count": 46,
   "metadata": {
    "colab": {
     "base_uri": "https://localhost:8080/"
    },
    "id": "hrT9-6TwPxu6",
    "outputId": "a22109f3-eaf9-4225-e613-7d0fecc120dc"
   },
   "outputs": [
    {
     "name": "stdout",
     "output_type": "stream",
     "text": [
      "+------+-----+\n",
      "|Origin|count|\n",
      "+------+-----+\n",
      "|    US|  254|\n",
      "| Japan|   79|\n",
      "|Europe|   73|\n",
      "+------+-----+\n",
      "\n"
     ]
    }
   ],
   "source": [
    "df.groupBy('Origin').count().orderBy('count', ascending=False).show(10)"
   ]
  },
  {
   "cell_type": "markdown",
   "metadata": {
    "id": "YLbu4_tuQx6d"
   },
   "source": [
    "### Union Dataframes\n",
    "\n",
    "You will see three main methods for performing union of dataframes. It is important to know the difference between them and which one is preferred:\n",
    "\n",
    "* union() – It is used to merge two DataFrames of the same structure/schema. If schemas are not the same, it returns an error\n",
    "* unionAll() – This function is deprecated since Spark 2.0.0, and replaced with union()\n",
    "* unionByName() - This function is used to merge two dataframes based on column name.\n",
    "\n",
    "Since unionAll() is deprecated, union() is the preferred method for merging dataframes.\n",
    "The difference between unionByName() and union() is that unionByName() resolves columns by name, not by position.\n",
    "\n",
    "In other SQLs, Union eliminates the duplicates but UnionAll merges two datasets, thereby including duplicate records. But, in PySpark, both behave the same and includes duplicate records. The recommendation is to use distinct() or dropDuplicates() to remove duplicate records."
   ]
  },
  {
   "cell_type": "code",
   "execution_count": 48,
   "metadata": {
    "colab": {
     "base_uri": "https://localhost:8080/"
    },
    "id": "yJGND9h-QKCI",
    "outputId": "63d2a826-504c-4395-b17d-6116bb38f2a6"
   },
   "outputs": [
    {
     "name": "stdout",
     "output_type": "stream",
     "text": [
      "EUROPE CARS: 3\n",
      "JAPAN CARS: 4\n",
      "AFTER UNION: 7\n"
     ]
    }
   ],
   "source": [
    "# case 1: Union when columns are in order\n",
    "df = spark.read.csv('cars.csv', header=True, sep=';', inferSchema=True)\n",
    "europe_cars = df.filter((col('Origin')=='Europe') & (col('Cylinders')==5))\n",
    "japan_cars = df.filter((col('Origin')=='Japan') & (col('Cylinders')==3))\n",
    "print(\"EUROPE CARS: \"+str(europe_cars.count()))\n",
    "print(\"JAPAN CARS: \"+str(japan_cars.count()))\n",
    "print(\"AFTER UNION: \"+str(europe_cars.union(japan_cars).count()))"
   ]
  },
  {
   "cell_type": "code",
   "execution_count": 50,
   "metadata": {
    "colab": {
     "base_uri": "https://localhost:8080/"
    },
    "id": "GnXbQI6QS6ql",
    "outputId": "8128b11a-39c3-4647-9b22-2622a53b4019"
   },
   "outputs": [
    {
     "name": "stdout",
     "output_type": "stream",
     "text": [
      "+----+----+----+\n",
      "|col0|col1|col2|\n",
      "+----+----+----+\n",
      "|   1|   2|   3|\n",
      "|   6|   4|   5|\n",
      "+----+----+----+\n",
      "\n"
     ]
    }
   ],
   "source": [
    "# CASE 1: Union when columns are not in order\n",
    "# Creating two Dataframes with jumbled columns\n",
    "df1 = spark.createDataFrame([[1,2,3]], [\"col0\",\"col1\",\"col2\"])\n",
    "df2 = spark.createDataFrame([[4,5,6]], [\"col1\",\"col2\",\"col0\"])\n",
    "df1.unionByName(df2).show()"
   ]
  },
  {
   "cell_type": "markdown",
   "metadata": {
    "id": "QIjopA8tUXnF"
   },
   "source": [
    "## Common Data Manipulation Functions"
   ]
  },
  {
   "cell_type": "code",
   "execution_count": 51,
   "metadata": {
    "colab": {
     "base_uri": "https://localhost:8080/"
    },
    "id": "rjor_w-GT7LV",
    "outputId": "51fc261c-51e2-43d3-ce2e-acb382be5655"
   },
   "outputs": [
    {
     "name": "stdout",
     "output_type": "stream",
     "text": [
      "['Column', 'DataFrame', 'DataType', 'PandasUDFType', 'PythonEvalType', 'SparkContext', 'StringType', 'UserDefinedFunction', '__builtins__', '__cached__', '__doc__', '__file__', '__loader__', '__name__', '__package__', '__spec__', '_create_column_from_literal', '_create_lambda', '_create_udf', '_get_get_jvm_function', '_get_lambda_parameters', '_invoke_binary_math_function', '_invoke_function', '_invoke_function_over_column', '_invoke_higher_order_function', '_options_to_str', '_test', '_to_java_column', '_to_seq', '_unresolved_named_lambda_variable', 'abs', 'acos', 'acosh', 'add_months', 'aggregate', 'approxCountDistinct', 'approx_count_distinct', 'array', 'array_contains', 'array_distinct', 'array_except', 'array_intersect', 'array_join', 'array_max', 'array_min', 'array_position', 'array_remove', 'array_repeat', 'array_sort', 'array_union', 'arrays_overlap', 'arrays_zip', 'asc', 'asc_nulls_first', 'asc_nulls_last', 'ascii', 'asin', 'asinh', 'assert_true', 'atan', 'atan2', 'atanh', 'avg', 'base64', 'bin', 'bitwiseNOT', 'broadcast', 'bround', 'bucket', 'cbrt', 'ceil', 'coalesce', 'col', 'collect_list', 'collect_set', 'column', 'concat', 'concat_ws', 'conv', 'corr', 'cos', 'cosh', 'count', 'countDistinct', 'covar_pop', 'covar_samp', 'crc32', 'create_map', 'cume_dist', 'current_date', 'current_timestamp', 'date_add', 'date_format', 'date_sub', 'date_trunc', 'datediff', 'dayofmonth', 'dayofweek', 'dayofyear', 'days', 'decode', 'degrees', 'dense_rank', 'desc', 'desc_nulls_first', 'desc_nulls_last', 'element_at', 'encode', 'exists', 'exp', 'explode', 'explode_outer', 'expm1', 'expr', 'factorial', 'filter', 'first', 'flatten', 'floor', 'forall', 'format_number', 'format_string', 'from_csv', 'from_json', 'from_unixtime', 'from_utc_timestamp', 'functools', 'get_json_object', 'greatest', 'grouping', 'grouping_id', 'hash', 'hex', 'hour', 'hours', 'hypot', 'initcap', 'input_file_name', 'instr', 'isnan', 'isnull', 'json_tuple', 'kurtosis', 'lag', 'last', 'last_day', 'lead', 'least', 'length', 'levenshtein', 'lit', 'locate', 'log', 'log10', 'log1p', 'log2', 'lower', 'lpad', 'ltrim', 'map_concat', 'map_entries', 'map_filter', 'map_from_arrays', 'map_from_entries', 'map_keys', 'map_values', 'map_zip_with', 'max', 'md5', 'mean', 'min', 'minute', 'monotonically_increasing_id', 'month', 'months', 'months_between', 'nanvl', 'next_day', 'nth_value', 'ntile', 'overlay', 'pandas_udf', 'percent_rank', 'percentile_approx', 'posexplode', 'posexplode_outer', 'pow', 'quarter', 'radians', 'raise_error', 'rand', 'randn', 'rank', 'regexp_extract', 'regexp_replace', 'repeat', 'reverse', 'rint', 'round', 'row_number', 'rpad', 'rtrim', 'schema_of_csv', 'schema_of_json', 'second', 'sequence', 'sha1', 'sha2', 'shiftLeft', 'shiftRight', 'shiftRightUnsigned', 'shuffle', 'signum', 'sin', 'since', 'sinh', 'size', 'skewness', 'slice', 'sort_array', 'soundex', 'spark_partition_id', 'split', 'sqrt', 'stddev', 'stddev_pop', 'stddev_samp', 'struct', 'substring', 'substring_index', 'sum', 'sumDistinct', 'sys', 'tan', 'tanh', 'timestamp_seconds', 'toDegrees', 'toRadians', 'to_csv', 'to_date', 'to_json', 'to_str', 'to_timestamp', 'to_utc_timestamp', 'transform', 'transform_keys', 'transform_values', 'translate', 'trim', 'trunc', 'udf', 'unbase64', 'unhex', 'unix_timestamp', 'upper', 'var_pop', 'var_samp', 'variance', 'warnings', 'weekofyear', 'when', 'window', 'xxhash64', 'year', 'years', 'zip_with']\n"
     ]
    }
   ],
   "source": [
    "# Functions available in Pyspark\n",
    "from  pyspark.sql import functions\n",
    "# Similar to python, we can use the dir function to view available functiions\n",
    "print(dir(functions))"
   ]
  },
  {
   "cell_type": "markdown",
   "metadata": {
    "id": "nuBoQFzFV6-k"
   },
   "source": [
    "### String Functions"
   ]
  },
  {
   "cell_type": "code",
   "execution_count": 53,
   "metadata": {
    "id": "pLHUKzhaVAp5"
   },
   "outputs": [],
   "source": [
    "# Load the data\n",
    "from pyspark.sql.functions import col\n",
    "df = spark.read.csv('cars.csv', header=True, sep=\";\", inferSchema=True)"
   ]
  },
  {
   "cell_type": "code",
   "execution_count": 54,
   "metadata": {
    "colab": {
     "base_uri": "https://localhost:8080/"
    },
    "id": "WM7_WHD3Vllj",
    "outputId": "5688b424-2f81-49c5-81f6-1de6cc9ae6d3"
   },
   "outputs": [
    {
     "name": "stdout",
     "output_type": "stream",
     "text": [
      "Help on function substring in module pyspark.sql.functions:\n",
      "\n",
      "substring(str, pos, len)\n",
      "    Substring starts at `pos` and is of length `len` when str is String type or\n",
      "    returns the slice of byte array that starts at `pos` in byte and is of length `len`\n",
      "    when str is Binary type.\n",
      "    \n",
      "    .. versionadded:: 1.5.0\n",
      "    \n",
      "    Notes\n",
      "    -----\n",
      "    The position is not zero based, but 1 based index.\n",
      "    \n",
      "    Examples\n",
      "    --------\n",
      "    >>> df = spark.createDataFrame([('abcd',)], ['s',])\n",
      "    >>> df.select(substring(df.s, 1, 2).alias('s')).collect()\n",
      "    [Row(s='ab')]\n",
      "\n",
      "+-------------------------+-------------------------+-------------------------+--------------+\n",
      "|Car                      |lower(Car)               |upper(Car)               |concated value|\n",
      "+-------------------------+-------------------------+-------------------------+--------------+\n",
      "|Chevrolet Chevelle Malibu|chevrolet chevelle malibu|CHEVROLET CHEVELLE MALIBU|Chev          |\n",
      "|Buick Skylark 320        |buick skylark 320        |BUICK SKYLARK 320        |Buic          |\n",
      "|Plymouth Satellite       |plymouth satellite       |PLYMOUTH SATELLITE       |Plym          |\n",
      "|AMC Rebel SST            |amc rebel sst            |AMC REBEL SST            |AMC           |\n",
      "|Ford Torino              |ford torino              |FORD TORINO              |Ford          |\n",
      "+-------------------------+-------------------------+-------------------------+--------------+\n",
      "only showing top 5 rows\n",
      "\n"
     ]
    }
   ],
   "source": [
    "from pyspark.sql.functions import col,lower,upper,substring\n",
    "help(substring)\n",
    "# alias is used to rename the column name in the output\n",
    "df.select(col('Car'),lower(col('Car')),upper(col('Car')),substring(col('Car'),1,4).alias(\"concated value\")).show(5,False)"
   ]
  },
  {
   "cell_type": "code",
   "execution_count": 56,
   "metadata": {
    "colab": {
     "base_uri": "https://localhost:8080/"
    },
    "id": "igNno0q3W0Qf",
    "outputId": "dc3a760b-39cc-47e1-efec-4d7cbadc958e"
   },
   "outputs": [
    {
     "name": "stdout",
     "output_type": "stream",
     "text": [
      "+-------------------------+-----+----------------------------+\n",
      "|Car                      |model|concat(Car,  , model)       |\n",
      "+-------------------------+-----+----------------------------+\n",
      "|Chevrolet Chevelle Malibu|70   |Chevrolet Chevelle Malibu 70|\n",
      "|Buick Skylark 320        |70   |Buick Skylark 320 70        |\n",
      "|Plymouth Satellite       |70   |Plymouth Satellite 70       |\n",
      "|AMC Rebel SST            |70   |AMC Rebel SST 70            |\n",
      "|Ford Torino              |70   |Ford Torino 70              |\n",
      "+-------------------------+-----+----------------------------+\n",
      "only showing top 5 rows\n",
      "\n"
     ]
    }
   ],
   "source": [
    "from pyspark.sql.functions import concat\n",
    "df.select(col(\"Car\"),col(\"model\"),concat(col(\"Car\"), lit(\" \"), col(\"model\"))).show(5, False)"
   ]
  },
  {
   "cell_type": "markdown",
   "metadata": {
    "id": "cnqLQTXnXpxI"
   },
   "source": [
    "### Numeric functions\n",
    "\n",
    "**Show the oldest date and the most recent date**"
   ]
  },
  {
   "cell_type": "code",
   "execution_count": 57,
   "metadata": {
    "colab": {
     "base_uri": "https://localhost:8080/"
    },
    "id": "UMhjNWR9XVqr",
    "outputId": "73b774b4-b90d-4213-ee41-37bc19e24d40"
   },
   "outputs": [
    {
     "name": "stdout",
     "output_type": "stream",
     "text": [
      "+-----------+-----------+\n",
      "|min(Weight)|max(Weight)|\n",
      "+-----------+-----------+\n",
      "|       1613|       5140|\n",
      "+-----------+-----------+\n",
      "\n"
     ]
    }
   ],
   "source": [
    "from pyspark.sql.functions import min, max\n",
    "df.select(min(col(\"Weight\")), max(col('Weight'))).show()"
   ]
  },
  {
   "cell_type": "markdown",
   "metadata": {
    "id": "xR4YF3kkYrvO"
   },
   "source": [
    "**Add 10 to the minimum and maximum weight**"
   ]
  },
  {
   "cell_type": "code",
   "execution_count": 59,
   "metadata": {
    "colab": {
     "base_uri": "https://localhost:8080/"
    },
    "id": "Yvtc5NpMYgxQ",
    "outputId": "5e49fb4e-6f57-45e2-dbd0-e210bf212cb6"
   },
   "outputs": [
    {
     "name": "stdout",
     "output_type": "stream",
     "text": [
      "+------------------+------------------+\n",
      "|(min(Weight) + 10)|max((Weight + 10))|\n",
      "+------------------+------------------+\n",
      "|              1623|              5150|\n",
      "+------------------+------------------+\n",
      "\n"
     ]
    }
   ],
   "source": [
    "from pyspark.sql.functions import min, max, lit\n",
    "df.select(min(col(\"Weight\"))+lit(10), max(col(\"Weight\")+lit(10))).show()"
   ]
  },
  {
   "cell_type": "markdown",
   "metadata": {
    "id": "wUxfY03xZmcP"
   },
   "source": [
    "### Operations on Date"
   ]
  },
  {
   "cell_type": "code",
   "execution_count": 61,
   "metadata": {
    "colab": {
     "base_uri": "https://localhost:8080/"
    },
    "id": "YaoOrcXQZVzV",
    "outputId": "536e268e-4d43-4abf-edb1-00c1feb14220"
   },
   "outputs": [
    {
     "name": "stdout",
     "output_type": "stream",
     "text": [
      "+-------------------+\n",
      "|                DOB|\n",
      "+-------------------+\n",
      "|2019-12-25 13:30:00|\n",
      "+-------------------+\n",
      "\n",
      "root\n",
      " |-- DOB: string (nullable = true)\n",
      "\n"
     ]
    }
   ],
   "source": [
    "from pyspark.sql.functions import to_date, to_timestamp, lit\n",
    "df = spark.createDataFrame([('2019-12-25 13:30:00',)], ['DOB'])\n",
    "df.show()\n",
    "df.printSchema()"
   ]
  },
  {
   "cell_type": "code",
   "execution_count": 62,
   "metadata": {
    "colab": {
     "base_uri": "https://localhost:8080/"
    },
    "id": "ncfc61ZLaNBy",
    "outputId": "d66f51a5-782d-4771-9dcf-d630b9039e08"
   },
   "outputs": [
    {
     "name": "stdout",
     "output_type": "stream",
     "text": [
      "+---------------------------------+--------------------------------------+\n",
      "|to_date(DOB, yyyy-MM-dd HH:mm:ss)|to_timestamp(DOB, yyyy-MM-dd HH:mm:ss)|\n",
      "+---------------------------------+--------------------------------------+\n",
      "|                       2019-12-25|                   2019-12-25 13:30:00|\n",
      "+---------------------------------+--------------------------------------+\n",
      "\n",
      "root\n",
      " |-- to_date(DOB, yyyy-MM-dd HH:mm:ss): date (nullable = true)\n",
      " |-- to_timestamp(DOB, yyyy-MM-dd HH:mm:ss): timestamp (nullable = true)\n",
      "\n"
     ]
    }
   ],
   "source": [
    "df = spark.createDataFrame([('2019-12-25 13:30:00',)], ['DOB'])\n",
    "df = df.select(to_date(col('DOB'), 'yyyy-MM-dd HH:mm:ss'), to_timestamp(col('DOB'),'yyyy-MM-dd HH:mm:ss'))\n",
    "df.show()\n",
    "df.printSchema()"
   ]
  },
  {
   "cell_type": "code",
   "execution_count": 63,
   "metadata": {
    "colab": {
     "base_uri": "https://localhost:8080/"
    },
    "id": "_jQiIRWYbRXs",
    "outputId": "0a5b6e62-986b-41bc-c447-2eab7c6b5105"
   },
   "outputs": [
    {
     "name": "stdout",
     "output_type": "stream",
     "text": [
      "+---------------------------------+--------------------------------------+\n",
      "|to_date(DOB, yyyy/MM/dd HH:mm:ss)|to_timestamp(DOB, yyyy/MM/dd HH:mm:ss)|\n",
      "+---------------------------------+--------------------------------------+\n",
      "|                       2019-12-25|                   2019-12-25 13:30:00|\n",
      "+---------------------------------+--------------------------------------+\n",
      "\n",
      "root\n",
      " |-- to_date(DOB, yyyy/MM/dd HH:mm:ss): date (nullable = true)\n",
      " |-- to_timestamp(DOB, yyyy/MM/dd HH:mm:ss): timestamp (nullable = true)\n",
      "\n"
     ]
    }
   ],
   "source": [
    "df = spark.createDataFrame([('2019/12/25 13:30:00',)], ['DOB'])\n",
    "df = df.select(to_date(col('DOB'), 'yyyy/MM/dd HH:mm:ss'), to_timestamp(col('DOB'),'yyyy/MM/dd HH:mm:ss'))\n",
    "df.show()\n",
    "df.printSchema()"
   ]
  },
  {
   "cell_type": "markdown",
   "metadata": {
    "id": "_lZcJapSb7Tn"
   },
   "source": [
    "**What is 3 days earlier that the oldest date and 3 days later than the most recent date**"
   ]
  },
  {
   "cell_type": "code",
   "execution_count": 64,
   "metadata": {
    "colab": {
     "base_uri": "https://localhost:8080/"
    },
    "id": "K1DBCI6NbmL0",
    "outputId": "3dd513e6-136e-4cff-d86b-cfa1b0547874"
   },
   "outputs": [
    {
     "name": "stdout",
     "output_type": "stream",
     "text": [
      "+----------------------+----------------------+\n",
      "|date_add(max(Date), 3)|date_sub(min(Date), 3)|\n",
      "+----------------------+----------------------+\n",
      "|            2021-04-02|            1989-12-29|\n",
      "+----------------------+----------------------+\n",
      "\n"
     ]
    }
   ],
   "source": [
    "from pyspark.sql.functions import date_add, date_sub\n",
    "# create a dummy dataframe\n",
    "df = spark.createDataFrame([('1990-01-01',),('1995-01-03',),('2021-03-30',)], ['Date'])\n",
    "# find out the required dates\n",
    "df.select(date_add(max(col('Date')),3), date_sub(min(col('Date')), 3)).show()"
   ]
  },
  {
   "cell_type": "code",
   "execution_count": 65,
   "metadata": {
    "colab": {
     "base_uri": "https://localhost:8080/"
    },
    "id": "txV0UlKedFZr",
    "outputId": "2c868d66-b73a-472e-d676-e7affe2ba726"
   },
   "outputs": [
    {
     "name": "stdout",
     "output_type": "stream",
     "text": [
      "+---+--------+\n",
      "| id|car_name|\n",
      "+---+--------+\n",
      "|  1|   Car A|\n",
      "|  2|   Car B|\n",
      "|  3|   Car C|\n",
      "+---+--------+\n",
      "\n",
      "+---+---------+\n",
      "| id|car_price|\n",
      "+---+---------+\n",
      "|  1|     1000|\n",
      "|  2|     2000|\n",
      "|  3|     3000|\n",
      "+---+---------+\n",
      "\n"
     ]
    }
   ],
   "source": [
    "# Create two Dataframe\n",
    "cars_df = spark.createDataFrame([[1, 'Car A'], [2, 'Car B'], [3, 'Car C']], [\"id\", \"car_name\"])\n",
    "car_price_df = spark.createDataFrame([[1, 1000],[2, 2000],[3, 3000]], [\"id\", \"car_price\"])\n",
    "cars_df.show()\n",
    "car_price_df.show()"
   ]
  },
  {
   "cell_type": "code",
   "execution_count": 66,
   "metadata": {
    "colab": {
     "base_uri": "https://localhost:8080/"
    },
    "id": "gTyVax_-eWn9",
    "outputId": "bc923d7e-24b2-48ed-fff1-6d0c1490562b"
   },
   "outputs": [
    {
     "name": "stdout",
     "output_type": "stream",
     "text": [
      "+---+--------+---------+\n",
      "|id |car_name|car_price|\n",
      "+---+--------+---------+\n",
      "|1  |Car A   |1000     |\n",
      "|3  |Car C   |3000     |\n",
      "|2  |Car B   |2000     |\n",
      "+---+--------+---------+\n",
      "\n"
     ]
    }
   ],
   "source": [
    "# Executing an inner join so we can see the id, name and price of each car in one row\n",
    "cars_df.join(car_price_df, cars_df.id == car_price_df.id, 'inner').select(cars_df['id'], cars_df['car_name'],car_price_df['car_price']).show(truncate=False)"
   ]
  },
  {
   "cell_type": "markdown",
   "metadata": {
    "id": "cf8l-B7Sg_fJ"
   },
   "source": [
    "As you can see, we have done an inner join between two dataframes. The following joins are supported by PySpark:\n",
    "\n",
    "1.inner (default)\n",
    "\n",
    "2.cross\n",
    "\n",
    "3.outer\n",
    "\n",
    "4.full\n",
    "\n",
    "5.full_outer\n",
    "\n",
    "6.left\n",
    "\n",
    "7.left_outer\n",
    "\n",
    "8.right\n",
    "\n",
    "9.right_outer\n",
    "\n",
    "10.left_semi\n",
    "\n",
    "11.left_anti\n",
    "\n",
    "## Spark SQL\n",
    "SQL has been around since the 1970s, and so one can imagine the number of people who made it their bread and butter. As big data came into popularity, the number of professionals with the technical knowledge to deal with it was in shortage. This led to the creation of Spark SQL. To quote the docs:\n",
    "\n",
    "Spark SQL is a Spark module for structured data processing. Unlike the basic Spark RDD API, the interfaces provided by Spark SQL provide Spark with more information about the structure of both the data and the computation being performed. Internally, Spark SQL uses this extra information to perform extra optimizations.\n",
    "\n",
    "Basically, what you need to know is that Spark SQL is used to execute SQL queries on big data. Spark SQL can also be used to read data from Hive tables and views. Let me explain Spark SQL with an example."
   ]
  },
  {
   "cell_type": "code",
   "execution_count": 68,
   "metadata": {
    "colab": {
     "base_uri": "https://localhost:8080/"
    },
    "id": "9RsTHHSAfjqK",
    "outputId": "5b9f10c0-b8dc-4639-8fa9-f920bef65dd2"
   },
   "outputs": [
    {
     "name": "stdout",
     "output_type": "stream",
     "text": [
      "+--------------------+----+---------+------------+----------+------+------------+-----+------+\n",
      "|                 Car| MPG|Cylinders|Displacement|Horsepower|Weight|Acceleration|Model|Origin|\n",
      "+--------------------+----+---------+------------+----------+------+------------+-----+------+\n",
      "|Chevrolet Chevell...|18.0|        8|       307.0|     130.0| 3504.|        12.0|   70|    US|\n",
      "|   Buick Skylark 320|15.0|        8|       350.0|     165.0| 3693.|        11.5|   70|    US|\n",
      "|  Plymouth Satellite|18.0|        8|       318.0|     150.0| 3436.|        11.0|   70|    US|\n",
      "|       AMC Rebel SST|16.0|        8|       304.0|     150.0| 3433.|        12.0|   70|    US|\n",
      "|         Ford Torino|17.0|        8|       302.0|     140.0| 3449.|        10.5|   70|    US|\n",
      "+--------------------+----+---------+------------+----------+------+------------+-----+------+\n",
      "\n",
      "+-----------+\n",
      "|total_count|\n",
      "+-----------+\n",
      "|        406|\n",
      "+-----------+\n",
      "\n"
     ]
    }
   ],
   "source": [
    "# Load data\n",
    "df = spark.read.csv('cars.csv',header=True,sep=';')\n",
    "# Register temporary Table\n",
    "df.createOrReplaceTempView(\"temp\")\n",
    "# select all the data from temp data\n",
    "spark.sql(\"select * from temp limit 5\").show()\n",
    "# Select count of data in table\n",
    "spark.sql(\"select count(*) as total_count from temp\").show()"
   ]
  },
  {
   "cell_type": "markdown",
   "metadata": {
    "id": "ewgtvQPnkKO0"
   },
   "source": [
    "As you can see, we registered the dataframe as temporary table and then ran basic SQL queries on it. How amazing is that?!\n",
    "If you are a person who is more comfortable with SQL, then this feature is truly a blessing for you! But this raises a question:\n",
    "\n",
    "Should I just keep using Spark SQL all the time?\n",
    "\n",
    "And the answer is, it depends.\n",
    "So basically, the different functions acts in differnet ways, and depending upon the type of action you are trying to do, the speed at which it completes execution also differs. But as time progress, this feature is getting better and better, so hopefully the difference should be a small margin. There are plenty of analysis done on this, but nothing has a definite answer yet. You can read this comparative study done by horton works or the answer to this stackoverflow question if you are still curious about it.\n",
    "\n",
    "\n",
    "##RDD\n",
    "With map, you define a function and then apply it record by record. Flatmap returns a new RDD by first applying a function to all of the elements in RDDs and then flattening the result. Filter, returns a new RDD. Meaning only the elements that satisfy a condition. With reduce, we are taking neighboring elements and producing a single combined result. For example, let's say you have a set of numbers. You can reduce this to its sum by providing a function that takes as input two values and reduces them to one.\n",
    "\n",
    "Some of the reasons you would use a dataframe over RDD are:\n",
    "\n",
    "* It's ability to represnt data as rows and columns. But this also means it can only hold structred and semi-structured data.\n",
    "* It allows processing data in different formats (AVRO, CSV, JSON, and storage system HDFS, HIVE tables, MySQL).\n",
    "* It's superior job Optimization capability.\n",
    "* DataFrame API is very easy to use"
   ]
  },
  {
   "cell_type": "code",
   "execution_count": 69,
   "metadata": {
    "colab": {
     "base_uri": "https://localhost:8080/"
    },
    "id": "Ym2txJRZjMqa",
    "outputId": "8be13890-846f-4f6f-b764-96535f02fa73"
   },
   "outputs": [
    {
     "name": "stdout",
     "output_type": "stream",
     "text": [
      "Car;MPG;Cylinders;Displacement;Horsepower;Weight;Acceleration;Model;Origin\n",
      "Chevrolet Chevelle Malibu;18.0;8;307.0;130.0;3504.;12.0;70;US\n"
     ]
    }
   ],
   "source": [
    "cars = spark.sparkContext.textFile('cars.csv')\n",
    "print(cars.first())\n",
    "cars_header = cars.first()\n",
    "cars_rest = cars.filter(lambda line: line!=cars_header)\n",
    "print(cars_rest.first())"
   ]
  },
  {
   "cell_type": "markdown",
   "metadata": {
    "id": "0BjA3ptqlVrn"
   },
   "source": [
    "**How many cars are in our csv data**"
   ]
  },
  {
   "cell_type": "code",
   "execution_count": 70,
   "metadata": {
    "colab": {
     "base_uri": "https://localhost:8080/"
    },
    "id": "K19XppFck--f",
    "outputId": "25fada9d-8488-4b22-e642-0d35008f0941"
   },
   "outputs": [
    {
     "data": {
      "text/plain": [
       "406"
      ]
     },
     "execution_count": 70,
     "metadata": {},
     "output_type": "execute_result"
    }
   ],
   "source": [
    "cars_rest.map(lambda line: line.split(\";\")).count()"
   ]
  },
  {
   "cell_type": "markdown",
   "metadata": {
    "id": "4u4wNxu9l5lm"
   },
   "source": [
    "**Display the car name, MPG, Cylinders, Weight and Origin for the cars Originating in Europe**"
   ]
  },
  {
   "cell_type": "code",
   "execution_count": 72,
   "metadata": {
    "colab": {
     "base_uri": "https://localhost:8080/"
    },
    "id": "Z-PEoZfRlnNB",
    "outputId": "83ee9112-e59d-40b9-9acc-773d7e52540b"
   },
   "outputs": [
    {
     "data": {
      "text/plain": [
       "[('Citroen DS-21 Pallas', '0', '4', '3090.', 'Europe'),\n",
       " ('Volkswagen 1131 Deluxe Sedan', '26.0', '4', '1835.', 'Europe'),\n",
       " ('Peugeot 504', '25.0', '4', '2672.', 'Europe'),\n",
       " ('Audi 100 LS', '24.0', '4', '2430.', 'Europe'),\n",
       " ('Saab 99e', '25.0', '4', '2375.', 'Europe'),\n",
       " ('BMW 2002', '26.0', '4', '2234.', 'Europe'),\n",
       " ('Volkswagen Super Beetle 117', '0', '4', '1978.', 'Europe'),\n",
       " ('Opel 1900', '28.0', '4', '2123.', 'Europe'),\n",
       " ('Peugeot 304', '30.0', '4', '2074.', 'Europe'),\n",
       " ('Fiat 124B', '30.0', '4', '2065.', 'Europe'),\n",
       " ('Volkswagen Model 111', '27.0', '4', '1834.', 'Europe'),\n",
       " ('Volkswagen Type 3', '23.0', '4', '2254.', 'Europe'),\n",
       " ('Volvo 145e (sw)', '18.0', '4', '2933.', 'Europe'),\n",
       " ('Volkswagen 411 (sw)', '22.0', '4', '2511.', 'Europe'),\n",
       " ('Peugeot 504 (sw)', '21.0', '4', '2979.', 'Europe'),\n",
       " ('Renault 12 (sw)', '26.0', '4', '2189.', 'Europe'),\n",
       " ('Volkswagen Super Beetle', '26.0', '4', '1950.', 'Europe'),\n",
       " ('Fiat 124 Sport Coupe', '26.0', '4', '2265.', 'Europe'),\n",
       " ('Fiat 128', '29.0', '4', '1867.', 'Europe'),\n",
       " ('Opel Manta', '24.0', '4', '2158.', 'Europe'),\n",
       " ('Audi 100LS', '20.0', '4', '2582.', 'Europe'),\n",
       " ('Volvo 144ea', '19.0', '4', '2868.', 'Europe'),\n",
       " ('Saab 99le', '24.0', '4', '2660.', 'Europe'),\n",
       " ('Audi Fox', '29.0', '4', '2219.', 'Europe'),\n",
       " ('Volkswagen Dasher', '26.0', '4', '1963.', 'Europe'),\n",
       " ('Opel Manta', '26.0', '4', '2300.', 'Europe'),\n",
       " ('Fiat 128', '24.0', '4', '2108.', 'Europe'),\n",
       " ('Fiat 124 TC', '26.0', '4', '2246.', 'Europe'),\n",
       " ('Fiat x1.9', '31.0', '4', '2000.', 'Europe'),\n",
       " ('Volkswagen Dasher', '25.0', '4', '2223.', 'Europe'),\n",
       " ('Volkswagen Rabbit', '29.0', '4', '1937.', 'Europe'),\n",
       " ('Audi 100LS', '23.0', '4', '2694.', 'Europe'),\n",
       " ('Peugeot 504', '23.0', '4', '2957.', 'Europe'),\n",
       " ('Volvo 244DL', '22.0', '4', '2945.', 'Europe'),\n",
       " ('Saab 99LE', '25.0', '4', '2671.', 'Europe'),\n",
       " ('Fiat 131', '28.0', '4', '2464.', 'Europe'),\n",
       " ('Opel 1900', '25.0', '4', '2220.', 'Europe'),\n",
       " ('Renault 12tl', '27.0', '4', '2202.', 'Europe'),\n",
       " ('Volkswagen Rabbit', '29.0', '4', '1937.', 'Europe'),\n",
       " ('Volkswagen Rabbit', '29.5', '4', '1825.', 'Europe'),\n",
       " ('Volvo 245', '20.0', '4', '3150.', 'Europe'),\n",
       " ('Peugeot 504', '19.0', '4', '3270.', 'Europe'),\n",
       " ('Mercedes-Benz 280s', '16.5', '6', '3820.', 'Europe'),\n",
       " ('Renault 5 GTL', '36.0', '4', '1825.', 'Europe'),\n",
       " ('Volkswagen Rabbit Custom', '29.0', '4', '1940.', 'Europe'),\n",
       " ('Volkswagen Dasher', '30.5', '4', '2190.', 'Europe'),\n",
       " ('BMW 320i', '21.5', '4', '2600.', 'Europe'),\n",
       " ('Volkswagen Rabbit Custom Diesel', '43.1', '4', '1985.', 'Europe'),\n",
       " ('Audi 5000', '20.3', '5', '2830.', 'Europe'),\n",
       " ('Volvo 264gl', '17.0', '6', '3140.', 'Europe'),\n",
       " ('Saab 99gle', '21.6', '4', '2795.', 'Europe'),\n",
       " ('Peugeot 604sl', '16.2', '6', '3410.', 'Europe'),\n",
       " ('Volkswagen Scirocco', '31.5', '4', '1990.', 'Europe'),\n",
       " ('Volkswagen Rabbit Custom', '31.9', '4', '1925.', 'Europe'),\n",
       " ('Mercedes Benz 300d', '25.4', '5', '3530.', 'Europe'),\n",
       " ('Peugeot 504', '27.2', '4', '3190.', 'Europe'),\n",
       " ('Fiat Strada Custom', '37.3', '4', '2130.', 'Europe'),\n",
       " ('Volkswagen Rabbit', '41.5', '4', '2144.', 'Europe'),\n",
       " ('Audi 4000', '34.3', '4', '2188.', 'Europe'),\n",
       " ('Volkswagen Rabbit C (Diesel)', '44.3', '4', '2085.', 'Europe'),\n",
       " ('Volkswagen Dasher (diesel)', '43.4', '4', '2335.', 'Europe'),\n",
       " ('Audi 5000s (diesel)', '36.4', '5', '2950.', 'Europe'),\n",
       " ('Mercedes-Benz 240d', '30.0', '4', '3250.', 'Europe'),\n",
       " ('Renault Lecar Deluxe', '40.9', '4', '1835.', 'Europe'),\n",
       " ('Volkswagen Rabbit', '29.8', '4', '1845.', 'Europe'),\n",
       " ('Triumph TR7 Coupe', '35.0', '4', '2500.', 'Europe'),\n",
       " ('Volkswagen Jetta', '33.0', '4', '2190.', 'Europe'),\n",
       " ('Renault 18i', '34.5', '4', '2320.', 'Europe'),\n",
       " ('Peugeot 505s Turbo Diesel', '28.1', '4', '3230.', 'Europe'),\n",
       " ('Saab 900s', '0', '4', '2800.', 'Europe'),\n",
       " ('Volvo Diesel', '30.7', '6', '3160.', 'Europe'),\n",
       " ('Volkswagen Rabbit l', '36.0', '4', '1980.', 'Europe'),\n",
       " ('Volkswagen Pickup', '44.0', '4', '2130.', 'Europe')]"
      ]
     },
     "execution_count": 72,
     "metadata": {},
     "output_type": "execute_result"
    }
   ],
   "source": [
    "# car name is column 0\n",
    "(cars_rest.filter(lambda line: line.split(\";\")[8]=='Europe').\n",
    " map(lambda line: (line.split(\";\")[0],\n",
    "     line.split(';')[1],\n",
    "     line.split(\";\")[2],\n",
    "     line.split(\";\")[5],\n",
    "     line.split(\";\")[8])).collect())"
   ]
  },
  {
   "cell_type": "markdown",
   "metadata": {
    "id": "787uSBU3n_yx"
   },
   "source": [
    "**Display the Car name, MPG, Cylinders, Weight and Origin for the cars Originating in either Europe or Japan**"
   ]
  },
  {
   "cell_type": "code",
   "execution_count": 73,
   "metadata": {
    "colab": {
     "base_uri": "https://localhost:8080/"
    },
    "id": "SzEL7vRAnRT1",
    "outputId": "5d453cca-d229-4e7c-d7a8-2e0ffcac944f"
   },
   "outputs": [
    {
     "data": {
      "text/plain": [
       "[('Citroen DS-21 Pallas', '0', '4', '3090.', 'Europe'),\n",
       " ('Toyota Corolla Mark ii', '24.0', '4', '2372.', 'Japan'),\n",
       " ('Datsun PL510', '27.0', '4', '2130.', 'Japan'),\n",
       " ('Volkswagen 1131 Deluxe Sedan', '26.0', '4', '1835.', 'Europe'),\n",
       " ('Peugeot 504', '25.0', '4', '2672.', 'Europe'),\n",
       " ('Audi 100 LS', '24.0', '4', '2430.', 'Europe'),\n",
       " ('Saab 99e', '25.0', '4', '2375.', 'Europe'),\n",
       " ('BMW 2002', '26.0', '4', '2234.', 'Europe'),\n",
       " ('Datsun PL510', '27.0', '4', '2130.', 'Japan'),\n",
       " ('Toyota Corolla', '25.0', '4', '2228.', 'Japan'),\n",
       " ('Volkswagen Super Beetle 117', '0', '4', '1978.', 'Europe'),\n",
       " ('Opel 1900', '28.0', '4', '2123.', 'Europe'),\n",
       " ('Peugeot 304', '30.0', '4', '2074.', 'Europe'),\n",
       " ('Fiat 124B', '30.0', '4', '2065.', 'Europe'),\n",
       " ('Toyota Corolla 1200', '31.0', '4', '1773.', 'Japan'),\n",
       " ('Datsun 1200', '35.0', '4', '1613.', 'Japan'),\n",
       " ('Volkswagen Model 111', '27.0', '4', '1834.', 'Europe'),\n",
       " ('Toyota Corolla Hardtop', '24.0', '4', '2278.', 'Japan'),\n",
       " ('Volkswagen Type 3', '23.0', '4', '2254.', 'Europe'),\n",
       " ('Mazda RX2 Coupe', '19.0', '3', '2330.', 'Japan'),\n",
       " ('Volvo 145e (sw)', '18.0', '4', '2933.', 'Europe'),\n",
       " ('Volkswagen 411 (sw)', '22.0', '4', '2511.', 'Europe'),\n",
       " ('Peugeot 504 (sw)', '21.0', '4', '2979.', 'Europe'),\n",
       " ('Renault 12 (sw)', '26.0', '4', '2189.', 'Europe'),\n",
       " ('Datsun 510 (sw)', '28.0', '4', '2288.', 'Japan'),\n",
       " ('Toyota Corolla Mark II (sw)', '23.0', '4', '2506.', 'Japan'),\n",
       " ('Toyota Corolla 1600 (sw)', '27.0', '4', '2100.', 'Japan'),\n",
       " ('Volkswagen Super Beetle', '26.0', '4', '1950.', 'Europe'),\n",
       " ('Toyota Camry', '20.0', '4', '2279.', 'Japan'),\n",
       " ('Datsun 610', '22.0', '4', '2379.', 'Japan'),\n",
       " ('Mazda RX3', '18.0', '3', '2124.', 'Japan'),\n",
       " ('Fiat 124 Sport Coupe', '26.0', '4', '2265.', 'Europe'),\n",
       " ('Fiat 128', '29.0', '4', '1867.', 'Europe'),\n",
       " ('Opel Manta', '24.0', '4', '2158.', 'Europe'),\n",
       " ('Audi 100LS', '20.0', '4', '2582.', 'Europe'),\n",
       " ('Volvo 144ea', '19.0', '4', '2868.', 'Europe'),\n",
       " ('Saab 99le', '24.0', '4', '2660.', 'Europe'),\n",
       " ('Toyota Mark II', '20.0', '6', '2807.', 'Japan'),\n",
       " ('Datsun B210', '31.0', '4', '1950.', 'Japan'),\n",
       " ('Toyota Corolla 1200', '32.0', '4', '1836.', 'Japan'),\n",
       " ('Audi Fox', '29.0', '4', '2219.', 'Europe'),\n",
       " ('Volkswagen Dasher', '26.0', '4', '1963.', 'Europe'),\n",
       " ('Opel Manta', '26.0', '4', '2300.', 'Europe'),\n",
       " ('Toyota Corolla', '31.0', '4', '1649.', 'Japan'),\n",
       " ('Datsun 710', '32.0', '4', '2003.', 'Japan'),\n",
       " ('Fiat 128', '24.0', '4', '2108.', 'Europe'),\n",
       " ('Fiat 124 TC', '26.0', '4', '2246.', 'Europe'),\n",
       " ('Honda Civic', '24.0', '4', '2489.', 'Japan'),\n",
       " ('Subaru', '26.0', '4', '2391.', 'Japan'),\n",
       " ('Fiat x1.9', '31.0', '4', '2000.', 'Europe'),\n",
       " ('Toyota Corolla', '29.0', '4', '2171.', 'Japan'),\n",
       " ('Toyota Corolla', '24.0', '4', '2702.', 'Japan'),\n",
       " ('Volkswagen Dasher', '25.0', '4', '2223.', 'Europe'),\n",
       " ('Datsun 710', '24.0', '4', '2545.', 'Japan'),\n",
       " ('Volkswagen Rabbit', '29.0', '4', '1937.', 'Europe'),\n",
       " ('Audi 100LS', '23.0', '4', '2694.', 'Europe'),\n",
       " ('Peugeot 504', '23.0', '4', '2957.', 'Europe'),\n",
       " ('Volvo 244DL', '22.0', '4', '2945.', 'Europe'),\n",
       " ('Saab 99LE', '25.0', '4', '2671.', 'Europe'),\n",
       " ('Honda Civic CVCC', '33.0', '4', '1795.', 'Japan'),\n",
       " ('Fiat 131', '28.0', '4', '2464.', 'Europe'),\n",
       " ('Opel 1900', '25.0', '4', '2220.', 'Europe'),\n",
       " ('Renault 12tl', '27.0', '4', '2202.', 'Europe'),\n",
       " ('Volkswagen Rabbit', '29.0', '4', '1937.', 'Europe'),\n",
       " ('Honda Civic', '33.0', '4', '1795.', 'Japan'),\n",
       " ('Volkswagen Rabbit', '29.5', '4', '1825.', 'Europe'),\n",
       " ('Datsun B-210', '32.0', '4', '1990.', 'Japan'),\n",
       " ('Toyota Corolla', '28.0', '4', '2155.', 'Japan'),\n",
       " ('Volvo 245', '20.0', '4', '3150.', 'Europe'),\n",
       " ('Peugeot 504', '19.0', '4', '3270.', 'Europe'),\n",
       " ('Toyota Mark II', '19.0', '6', '2930.', 'Japan'),\n",
       " ('Mercedes-Benz 280s', '16.5', '6', '3820.', 'Europe'),\n",
       " ('Honda Accord CVCC', '31.5', '4', '2045.', 'Japan'),\n",
       " ('Renault 5 GTL', '36.0', '4', '1825.', 'Europe'),\n",
       " ('Datsun F-10 Hatchback', '33.5', '4', '1945.', 'Japan'),\n",
       " ('Volkswagen Rabbit Custom', '29.0', '4', '1940.', 'Europe'),\n",
       " ('Toyota Corolla Liftback', '26.0', '4', '2265.', 'Japan'),\n",
       " ('Subaru DL', '30.0', '4', '1985.', 'Japan'),\n",
       " ('Volkswagen Dasher', '30.5', '4', '2190.', 'Europe'),\n",
       " ('Datsun 810', '22.0', '6', '2815.', 'Japan'),\n",
       " ('BMW 320i', '21.5', '4', '2600.', 'Europe'),\n",
       " ('Mazda RX-4', '21.5', '3', '2720.', 'Japan'),\n",
       " ('Volkswagen Rabbit Custom Diesel', '43.1', '4', '1985.', 'Europe'),\n",
       " ('Mazda GLC Deluxe', '32.8', '4', '1985.', 'Japan'),\n",
       " ('Datsun B210 GX', '39.4', '4', '2070.', 'Japan'),\n",
       " ('Honda Civic CVCC', '36.1', '4', '1800.', 'Japan'),\n",
       " ('Toyota Corolla', '27.5', '4', '2560.', 'Japan'),\n",
       " ('Datsun 510', '27.2', '4', '2300.', 'Japan'),\n",
       " ('Toyota Celica GT Liftback', '21.1', '4', '2515.', 'Japan'),\n",
       " ('Datsun 200-SX', '23.9', '4', '2405.', 'Japan'),\n",
       " ('Audi 5000', '20.3', '5', '2830.', 'Europe'),\n",
       " ('Volvo 264gl', '17.0', '6', '3140.', 'Europe'),\n",
       " ('Saab 99gle', '21.6', '4', '2795.', 'Europe'),\n",
       " ('Peugeot 604sl', '16.2', '6', '3410.', 'Europe'),\n",
       " ('Volkswagen Scirocco', '31.5', '4', '1990.', 'Europe'),\n",
       " ('Honda Accord LX', '29.5', '4', '2135.', 'Japan'),\n",
       " ('Volkswagen Rabbit Custom', '31.9', '4', '1925.', 'Europe'),\n",
       " ('Mazda GLC Deluxe', '34.1', '4', '1975.', 'Japan'),\n",
       " ('Mercedes Benz 300d', '25.4', '5', '3530.', 'Europe'),\n",
       " ('Peugeot 504', '27.2', '4', '3190.', 'Europe'),\n",
       " ('Datsun 210', '31.8', '4', '2020.', 'Japan'),\n",
       " ('Fiat Strada Custom', '37.3', '4', '2130.', 'Europe'),\n",
       " ('Volkswagen Rabbit', '41.5', '4', '2144.', 'Europe'),\n",
       " ('Toyota Corolla Tercel', '38.1', '4', '1968.', 'Japan'),\n",
       " ('Datsun 310', '37.2', '4', '2019.', 'Japan'),\n",
       " ('Audi 4000', '34.3', '4', '2188.', 'Europe'),\n",
       " ('Toyota Corolla Liftback', '29.8', '4', '2711.', 'Japan'),\n",
       " ('Mazda 626', '31.3', '4', '2542.', 'Japan'),\n",
       " ('Datsun 510 Hatchback', '37.0', '4', '2434.', 'Japan'),\n",
       " ('Toyota Corolla', '32.2', '4', '2265.', 'Japan'),\n",
       " ('Mazda GLC', '46.6', '4', '2110.', 'Japan'),\n",
       " ('Datsun 210', '40.8', '4', '2110.', 'Japan'),\n",
       " ('Volkswagen Rabbit C (Diesel)', '44.3', '4', '2085.', 'Europe'),\n",
       " ('Volkswagen Dasher (diesel)', '43.4', '4', '2335.', 'Europe'),\n",
       " ('Audi 5000s (diesel)', '36.4', '5', '2950.', 'Europe'),\n",
       " ('Mercedes-Benz 240d', '30.0', '4', '3250.', 'Europe'),\n",
       " ('Honda Civic 1500 gl', '44.6', '4', '1850.', 'Japan'),\n",
       " ('Renault Lecar Deluxe', '40.9', '4', '1835.', 'Europe'),\n",
       " ('Subaru DL', '33.8', '4', '2145.', 'Japan'),\n",
       " ('Volkswagen Rabbit', '29.8', '4', '1845.', 'Europe'),\n",
       " ('Datsun 280-ZX', '32.7', '6', '2910.', 'Japan'),\n",
       " ('Mazda RX-7 GS', '23.7', '3', '2420.', 'Japan'),\n",
       " ('Triumph TR7 Coupe', '35.0', '4', '2500.', 'Europe'),\n",
       " ('Honda Accord', '32.4', '4', '2290.', 'Japan'),\n",
       " ('Toyota Starlet', '39.1', '4', '1755.', 'Japan'),\n",
       " ('Honda Civic 1300', '35.1', '4', '1760.', 'Japan'),\n",
       " ('Subaru', '32.3', '4', '2065.', 'Japan'),\n",
       " ('Datsun 210 MPG', '37.0', '4', '1975.', 'Japan'),\n",
       " ('Toyota Tercel', '37.7', '4', '2050.', 'Japan'),\n",
       " ('Mazda GLC 4', '34.1', '4', '1985.', 'Japan'),\n",
       " ('Volkswagen Jetta', '33.0', '4', '2190.', 'Europe'),\n",
       " ('Renault 18i', '34.5', '4', '2320.', 'Europe'),\n",
       " ('Honda Prelude', '33.7', '4', '2210.', 'Japan'),\n",
       " ('Toyota Corolla', '32.4', '4', '2350.', 'Japan'),\n",
       " ('Datsun 200SX', '32.9', '4', '2615.', 'Japan'),\n",
       " ('Mazda 626', '31.6', '4', '2635.', 'Japan'),\n",
       " ('Peugeot 505s Turbo Diesel', '28.1', '4', '3230.', 'Europe'),\n",
       " ('Saab 900s', '0', '4', '2800.', 'Europe'),\n",
       " ('Volvo Diesel', '30.7', '6', '3160.', 'Europe'),\n",
       " ('Toyota Cressida', '25.4', '6', '2900.', 'Japan'),\n",
       " ('Datsun 810 Maxima', '24.2', '6', '2930.', 'Japan'),\n",
       " ('Volkswagen Rabbit l', '36.0', '4', '1980.', 'Europe'),\n",
       " ('Mazda GLC Custom l', '37.0', '4', '2025.', 'Japan'),\n",
       " ('Mazda GLC Custom', '31.0', '4', '1970.', 'Japan'),\n",
       " ('Nissan Stanza XE', '36.0', '4', '2160.', 'Japan'),\n",
       " ('Honda Accord', '36.0', '4', '2205.', 'Japan'),\n",
       " ('Toyota Corolla', '34.0', '4', '2245', 'Japan'),\n",
       " ('Honda Civic', '38.0', '4', '1965.', 'Japan'),\n",
       " ('Honda Civic (auto)', '32.0', '4', '1965.', 'Japan'),\n",
       " ('Datsun 310 GX', '38.0', '4', '1995.', 'Japan'),\n",
       " ('Toyota Celica GT', '32.0', '4', '2665.', 'Japan'),\n",
       " ('Volkswagen Pickup', '44.0', '4', '2130.', 'Europe')]"
      ]
     },
     "execution_count": 73,
     "metadata": {},
     "output_type": "execute_result"
    }
   ],
   "source": [
    "# car name is column 0\n",
    "(cars_rest.filter(lambda line: line.split(\";\")[8] in ['Europe','Japan']).\n",
    " map(lambda line: (line.split(\";\")[0],\n",
    "     line.split(';')[1],\n",
    "     line.split(\";\")[2],\n",
    "     line.split(\";\")[5],\n",
    "     line.split(\";\")[8])).collect())"
   ]
  },
  {
   "cell_type": "markdown",
   "metadata": {
    "id": "oi7fcoZlsDif"
   },
   "source": [
    "Certainly! Let's briefly go through each of the main modules and submodules in the PySpark package, along with a simple example for each where applicable.\n",
    "\n",
    "1. **pyspark.sql module:**\n",
    "    - **Module Context:**\n",
    "        - `pyspark.sql.SparkSession` is the entry point to interact with DataFrame and SQL functionality.\n",
    "        ```python\n",
    "        from pyspark.sql import SparkSession\n",
    "\n",
    "        # Create a Spark session\n",
    "        spark = SparkSession.builder.appName(\"example\").getOrCreate()\n",
    "        ```\n",
    "\n",
    "    - **pyspark.sql.types module:**\n",
    "        - Provides data types used in PySpark SQL.\n",
    "        ```python\n",
    "        from pyspark.sql.types import StructType, StructField, StringType, IntegerType\n",
    "\n",
    "        # Define a schema\n",
    "        schema = StructType([\n",
    "            StructField(\"name\", StringType(), True),\n",
    "            StructField(\"age\", IntegerType(), True)\n",
    "        ])\n",
    "        ```\n",
    "\n",
    "    - **pyspark.sql.functions module:**\n",
    "        - Contains built-in functions for DataFrame manipulation.\n",
    "        ```python\n",
    "        from pyspark.sql.functions import col, count\n",
    "\n",
    "        # Use functions to manipulate DataFrame\n",
    "        df.select(\"column1\", \"column2\").filter(col(\"column3\") > 5).groupBy(\"column1\").agg(count(\"*\"))\n",
    "        ```\n",
    "\n",
    "    - **pyspark.sql.streaming module:**\n",
    "        - Enables streaming capabilities in PySpark.\n",
    "        ```python\n",
    "        from pyspark.sql import SparkSession\n",
    "\n",
    "        # Create a Spark session\n",
    "        spark = SparkSession.builder.appName(\"streaming_example\").getOrCreate()\n",
    "\n",
    "        # Read data from a streaming source\n",
    "        streaming_df = spark.readStream.format(\"source\").load()\n",
    "\n",
    "        # Perform streaming transformations\n",
    "        result = streaming_df.groupBy(\"column\").count()\n",
    "\n",
    "        # Write the result to a streaming sink\n",
    "        query = result.writeStream.outputMode(\"complete\").format(\"console\").start()\n",
    "        query.awaitTermination()\n",
    "        ```\n",
    "\n",
    "2. **pyspark.streaming module:**\n",
    "    - **pyspark.streaming.kafka module:**\n",
    "        - Provides functionality for consuming and producing data from/to Kafka topics.\n",
    "        ```python\n",
    "        from pyspark.streaming.kafka import KafkaUtils\n",
    "\n",
    "        # Create a Kafka Direct Stream\n",
    "        kafkaStream = KafkaUtils.createDirectStream(ssc, [\"topic\"], {\"metadata.broker.list\": \"broker\"})\n",
    "\n",
    "        # Process the stream\n",
    "        kafkaStream.map(lambda x: x[1]).flatMap(lambda line: line.split(\" \")).countByValue().pprint()\n",
    "        ```\n",
    "\n",
    "    - **pyspark.streaming.kinesis module:**\n",
    "        - Offers support for processing data from Amazon Kinesis.\n",
    "        ```python\n",
    "        from pyspark.streaming.kinesis import KinesisUtils, InitialPositionInStream\n",
    "\n",
    "        # Create a Kinesis Direct Stream\n",
    "        kinesisStream = KinesisUtils.createStream(ssc, \"appName\", \"streamName\", \"endpointURL\", \"regionName\",\n",
    "                                                 \"initialPositionInStream\", 2, StorageLevel.MEMORY_AND_DISK_2)\n",
    "\n",
    "        # Process the Kinesis stream\n",
    "        kinesisStream.map(lambda x: x[1]).flatMap(lambda line: line.split(\" \")).countByValue().pprint()\n",
    "        ```\n",
    "\n",
    "3. **pyspark.ml package:**\n",
    "    - **ML Pipeline APIs:**\n",
    "        - PySpark ML provides a high-level API for building machine learning pipelines.\n",
    "        ```python\n",
    "        from pyspark.ml import Pipeline\n",
    "        from pyspark.ml.feature import VectorAssembler\n",
    "        from pyspark.ml.regression import LinearRegression\n",
    "\n",
    "        # Define feature columns\n",
    "        feature_columns = [\"feature1\", \"feature2\"]\n",
    "\n",
    "        # Create a feature vector assembler\n",
    "        assembler = VectorAssembler(inputCols=feature_columns, outputCol=\"features\")\n",
    "\n",
    "        # Create a linear regression model\n",
    "        lr = LinearRegression(featuresCol=\"features\", labelCol=\"label\")\n",
    "\n",
    "        # Create a pipeline\n",
    "        pipeline = Pipeline(stages=[assembler, lr])\n",
    "\n",
    "        # Fit the pipeline to training data\n",
    "        model = pipeline.fit(training_data)\n",
    "        ```\n",
    "\n",
    "    - **pyspark.ml.param module:**\n",
    "        - Handles parameters for PySpark ML algorithms.\n",
    "        ```python\n",
    "        from pyspark.ml.classification import LogisticRegression\n",
    "\n",
    "        # Create a Logistic Regression model with custom parameters\n",
    "        lr = LogisticRegression(maxIter=10, regParam=0.01)\n",
    "\n",
    "        # Fit the model\n",
    "        model = lr.fit(training_data)\n",
    "        ```\n",
    "\n",
    "    - **pyspark.ml.feature module:**\n",
    "        - Provides feature extraction and transformation tools.\n",
    "        ```python\n",
    "        from pyspark.ml.feature import Tokenizer\n",
    "\n",
    "        # Tokenize a text column\n",
    "        tokenizer = Tokenizer(inputCol=\"text\", outputCol=\"words\")\n",
    "        words_df = tokenizer.transform(dataframe)\n",
    "        ```\n",
    "\n",
    "    - **pyspark.ml.classification module:**\n",
    "        - Implements classification algorithms.\n",
    "        ```python\n",
    "        from pyspark.ml.classification import RandomForestClassifier\n",
    "\n",
    "        # Create a Random Forest Classifier\n",
    "        rf = RandomForestClassifier(featuresCol=\"features\", labelCol=\"label\", numTrees=10)\n",
    "\n",
    "        # Train the model\n",
    "        model = rf.fit(training_data)\n",
    "        ```\n",
    "\n",
    "    - **pyspark.ml.clustering module:**\n",
    "        - Includes clustering algorithms.\n",
    "        ```python\n",
    "        from pyspark.ml.clustering import KMeans\n",
    "\n",
    "        # Create a KMeans model\n",
    "        kmeans = KMeans(featuresCol=\"features\", k=3)\n",
    "\n",
    "        # Fit the model\n",
    "        model = kmeans.fit(training_data)\n",
    "        ```\n",
    "\n",
    "    - **pyspark.ml.linalg module:**\n",
    "        - Provides linear algebra utilities.\n",
    "        ```python\n",
    "        from pyspark.ml.linalg import Vectors\n",
    "\n",
    "        # Create a dense vector\n",
    "        dense_vector = Vectors.dense([1.0, 2.0, 3.0])\n",
    "\n",
    "        # Create a sparse vector\n",
    "        sparse_vector = Vectors.sparse(3, [0, 2], [1.0, 3.0])\n",
    "        ```\n",
    "\n",
    "    - **pyspark.ml.recommendation module:**\n",
    "        - Includes collaborative filtering for recommendation.\n",
    "        ```python\n",
    "        from pyspark.ml.recommendation import ALS\n",
    "\n",
    "        # Create an ALS model\n",
    "        als = ALS(userCol=\"userId\", itemCol=\"movieId\", ratingCol=\"rating\", coldStartStrategy=\"drop\")\n",
    "\n",
    "        # Fit the model\n",
    "        model = als.fit(training_data)\n",
    "        ```\n",
    "\n",
    "    - **pyspark.ml.regression module:**\n",
    "        - Implements regression algorithms.\n",
    "        ```python\n",
    "        from pyspark.ml.regression import LinearRegression\n",
    "\n",
    "        # Create a Linear Regression model\n",
    "        lr = LinearRegression(featuresCol=\"features\", labelCol=\"label\")\n",
    "\n",
    "        # Train the model\n",
    "        model = lr.fit(training_data)\n",
    "        ```\n",
    "\n",
    "    - **pyspark.ml.tuning module:**\n",
    "        - Supports hyperparameter tuning.\n",
    "        ```python\n",
    "        from pyspark.ml.tuning import ParamGridBuilder, CrossValidator\n",
    "\n",
    "        # Define a parameter grid\n",
    "        param_grid = ParamGridBuilder().addGrid(lr.regParam, [0.01, 0.1, 0.5]).build()\n",
    "\n",
    "        # Create a cross-validator\n",
    "        crossval = CrossValidator(estimator=lr, estimatorParamMaps=param_grid, evaluator=evaluator, numFolds=3)\n",
    "\n",
    "        # Run cross-validation to find the best model\n",
    "        cv_model = crossval.fit(training_data)\n",
    "        ```\n",
    "\n",
    "    - **pyspark.ml.evaluation module:**\n",
    "        -\n",
    "\n",
    " Provides evaluation metrics for models.\n",
    "        ```python\n",
    "        from pyspark.ml.evaluation import BinaryClassificationEvaluator\n",
    "\n",
    "        # Create a Binary Classification Evaluator\n",
    "        evaluator = BinaryClassificationEvaluator(rawPredictionCol=\"rawPrediction\", labelCol=\"label\")\n",
    "\n",
    "        # Evaluate the model\n",
    "        auc = evaluator.evaluate(predictions)\n",
    "        ```\n",
    "\n",
    "4. **pyspark.mllib package:**\n",
    "    - **pyspark.mllib.classification module:**\n",
    "        - Implements classic machine learning classification algorithms.\n",
    "        ```python\n",
    "        from pyspark.mllib.classification import SVMWithSGD\n",
    "        from pyspark.mllib.regression import LabeledPoint\n",
    "\n",
    "        # Create labeled points\n",
    "        labeled_points = [LabeledPoint(1.0, [1.0, 0.0, 3.0]), LabeledPoint(0.0, [2.0, 1.0, 0.0])]\n",
    "\n",
    "        # Train an SVM model\n",
    "        model = SVMWithSGD.train(sc.parallelize(labeled_points))\n",
    "        ```\n",
    "\n",
    "    - **pyspark.mllib.clustering module:**\n",
    "        - Includes classic machine learning clustering algorithms.\n",
    "        ```python\n",
    "        from pyspark.mllib.clustering import KMeans\n",
    "        from pyspark.mllib.linalg import Vectors\n",
    "\n",
    "        # Create RDD of vectors\n",
    "        data = [Vectors.dense([1.0, 2.0]), Vectors.dense([2.0, 3.0]), Vectors.dense([8.0, 7.0])]\n",
    "\n",
    "        # Train a KMeans model\n",
    "        model = KMeans.train(sc.parallelize(data), k=2, maxIterations=10)\n",
    "        ```\n",
    "\n",
    "    - **pyspark.mllib.evaluation module:**\n",
    "        - Provides evaluation metrics for models.\n",
    "        ```python\n",
    "        from pyspark.mllib.evaluation import BinaryClassificationMetrics\n",
    "\n",
    "        # Evaluate a binary classification model\n",
    "        metrics = BinaryClassificationMetrics(predictions_and_labels)\n",
    "        auc = metrics.areaUnderROC\n",
    "        ```\n",
    "\n",
    "    - **pyspark.mllib.feature module:**\n",
    "        - Includes feature extraction and transformation tools.\n",
    "        ```python\n",
    "        from pyspark.mllib.feature import HashingTF\n",
    "        from pyspark.mllib.feature import IDF\n",
    "\n",
    "        # Create RDD of documents\n",
    "        documents = [\"This is a sample document\", \"Another document for testing\", \"And one more document\"]\n",
    "\n",
    "        # Tokenize and apply TF-IDF transformation\n",
    "        hashingTF = HashingTF()\n",
    "        tf = hashingTF.transform(documents)\n",
    "        idf = IDF().fit(tf)\n",
    "        tfidf = idf.transform(tf)\n",
    "        ```\n",
    "\n",
    "    - **pyspark.mllib.fpm module:**\n",
    "        - Implements frequent pattern mining algorithms.\n",
    "        ```python\n",
    "        from pyspark.mllib.fpm import FPGrowth\n",
    "\n",
    "        # Create an RDD of transactions\n",
    "        data = [[\"item1\", \"item2\", \"item3\"], [\"item1\", \"item2\"], [\"item1\", \"item3\"], [\"item2\", \"item3\"]]\n",
    "\n",
    "        # Train an FP-growth model\n",
    "        model = FPGrowth.train(sc.parallelize(data), minSupport=0.2, numPartitions=10)\n",
    "        ```\n",
    "\n",
    "    - **pyspark.mllib.linalg module:**\n",
    "        - Provides linear algebra utilities.\n",
    "        ```python\n",
    "        from pyspark.mllib.linalg import Vectors\n",
    "\n",
    "        # Create a dense vector\n",
    "        dense_vector = Vectors.dense([1.0, 2.0, 3.0])\n",
    "\n",
    "        # Create a sparse vector\n",
    "        sparse_vector = Vectors.sparse(3, [0, 2], [1.0, 3.0])\n",
    "        ```\n",
    "\n",
    "    - **pyspark.mllib.linalg.distributed module:**\n",
    "        - Provides distributed linear algebra utilities.\n",
    "        ```python\n",
    "        from pyspark.mllib.linalg.distributed import RowMatrix\n",
    "\n",
    "        # Create an RDD of vectors\n",
    "        rows = sc.parallelize([Vectors.dense([1.0, 2.0]), Vectors.dense([2.0, 3.0]), Vectors.dense([8.0, 7.0])])\n",
    "\n",
    "        # Create a distributed RowMatrix\n",
    "        mat = RowMatrix(rows)\n",
    "        ```\n",
    "\n",
    "    - **pyspark.mllib.random module:**\n",
    "        - Implements random data generation.\n",
    "        ```python\n",
    "        from pyspark.mllib.random import RandomRDDs\n",
    "\n",
    "        # Generate a random RDD of Gaussian numbers\n",
    "        random_rdd = RandomRDDs.normalRDD(sc, 1000, 2)\n",
    "        ```\n",
    "\n",
    "    - **pyspark.mllib.recommendation module:**\n",
    "        - Implements collaborative filtering for recommendation.\n",
    "        ```python\n",
    "        from pyspark.mllib.recommendation import ALS\n",
    "\n",
    "        # Create an ALS model\n",
    "        model = ALS.train(training_data, rank=10, iterations=5, lambda_=0.01)\n",
    "\n",
    "        # Make recommendations\n",
    "        user_product = (1, 2)\n",
    "        prediction = model.predict(user_product[0], user_product[1])\n",
    "        ```\n",
    "\n",
    "    - **pyspark.mllib.regression module:**\n",
    "        - Implements classic machine learning regression algorithms.\n",
    "        ```python\n",
    "        from pyspark.mllib.regression import LinearRegressionWithSGD\n",
    "        from pyspark.mllib.regression import LabeledPoint\n",
    "\n",
    "        # Create labeled points\n",
    "        labeled_points = [LabeledPoint(1.0, [1.0, 0.0, 3.0]), LabeledPoint(0.0, [2.0, 1.0, 0.0])]\n",
    "\n",
    "        # Train a linear regression model\n",
    "        model = LinearRegressionWithSGD.train(sc.parallelize(labeled_points))\n",
    "        ```\n",
    "\n",
    "    - **pyspark.mllib.stat module:**\n",
    "        - Provides statistical tools.\n",
    "        ```python\n",
    "        from pyspark.mllib.stat import Statistics\n",
    "        from pyspark.mllib.linalg import Vectors\n",
    "\n",
    "        # Create RDD of vectors\n",
    "        data = sc.parallelize([Vectors.dense([1.0, 2.0]), Vectors.dense([2.0, 3.0]), Vectors.dense([8.0, 7.0])])\n",
    "\n",
    "        # Calculate correlation matrix\n",
    "        correlation_matrix = Statistics.corr(data)\n",
    "        ```\n",
    "\n",
    "    - **pyspark.mllib.tree module:**\n",
    "        - Implements decision trees.\n",
    "        ```python\n",
    "        from pyspark.mllib.tree import DecisionTree\n",
    "        from pyspark.mllib.regression import LabeledPoint\n",
    "\n",
    "        # Create labeled points\n",
    "        labeled_points = [LabeledPoint(1.0, [1.0, 0.0, 3.0]), LabeledPoint(0.0, [2.0, 1.0, 0.0])]\n",
    "\n",
    "        # Train a decision tree model\n",
    "        model = DecisionTree.trainClassifier(sc.parallelize(labeled_points), numClasses=2, categoricalFeaturesInfo={})\n",
    "        ```\n",
    "\n",
    "    - **pyspark.mllib.util module:**\n",
    "        - Provides utility functions.\n",
    "        ```python\n",
    "        from pyspark.mllib.util import MLUtils\n",
    "\n",
    "        # Load a dataset as an RDD of LabeledPoints\n",
    "        data = MLUtils.loadLibSVMFile(sc, \"data/libsvm.txt\")\n",
    "        ```\n",
    "\n",
    "This provides a high-level overview and examples for each major module and submodule in PySpark. Keep in mind that the examples are simplified for illustration purposes, and the actual usage may involve more detailed configurations and considerations depending on"
   ]
  },
  {
   "cell_type": "code",
   "execution_count": null,
   "metadata": {
    "id": "5Fw7WBoXn6lt"
   },
   "outputs": [],
   "source": []
  }
 ],
 "metadata": {
  "colab": {
   "provenance": []
  },
  "kernelspec": {
   "display_name": "Python 3 (ipykernel)",
   "language": "python",
   "name": "python3"
  },
  "language_info": {
   "codemirror_mode": {
    "name": "ipython",
    "version": 3
   },
   "file_extension": ".py",
   "mimetype": "text/x-python",
   "name": "python",
   "nbconvert_exporter": "python",
   "pygments_lexer": "ipython3",
   "version": "3.9.7"
  }
 },
 "nbformat": 4,
 "nbformat_minor": 1
}
